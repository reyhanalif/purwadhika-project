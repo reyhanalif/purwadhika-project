{
 "cells": [
  {
   "cell_type": "code",
   "execution_count": 5,
   "metadata": {},
   "outputs": [],
   "source": [
    "import pandas as pd\n",
    "import numpy as np \n",
    "import matplotlib.pyplot as plt\n",
    "import seaborn as sns"
   ]
  },
  {
   "cell_type": "code",
   "execution_count": 6,
   "metadata": {},
   "outputs": [],
   "source": [
    "import warnings \n",
    "warnings.filterwarnings('ignore')"
   ]
  },
  {
   "cell_type": "markdown",
   "metadata": {},
   "source": [
    "## Import Data"
   ]
  },
  {
   "cell_type": "code",
   "execution_count": 7,
   "metadata": {},
   "outputs": [
    {
     "data": {
      "text/html": [
       "<div>\n",
       "<style scoped>\n",
       "    .dataframe tbody tr th:only-of-type {\n",
       "        vertical-align: middle;\n",
       "    }\n",
       "\n",
       "    .dataframe tbody tr th {\n",
       "        vertical-align: top;\n",
       "    }\n",
       "\n",
       "    .dataframe thead th {\n",
       "        text-align: right;\n",
       "    }\n",
       "</style>\n",
       "<table border=\"1\" class=\"dataframe\">\n",
       "  <thead>\n",
       "    <tr style=\"text-align: right;\">\n",
       "      <th></th>\n",
       "      <th>fare_amount</th>\n",
       "      <th>pickup_datetime</th>\n",
       "      <th>pickup_longitude</th>\n",
       "      <th>pickup_latitude</th>\n",
       "      <th>dropoff_longitude</th>\n",
       "      <th>dropoff_latitude</th>\n",
       "      <th>passenger_count</th>\n",
       "    </tr>\n",
       "  </thead>\n",
       "  <tbody>\n",
       "    <tr>\n",
       "      <th>0</th>\n",
       "      <td>4.5</td>\n",
       "      <td>2009-06-15 17:26:21</td>\n",
       "      <td>-73.844311</td>\n",
       "      <td>40.721319</td>\n",
       "      <td>-73.841610</td>\n",
       "      <td>40.712278</td>\n",
       "      <td>1.0</td>\n",
       "    </tr>\n",
       "    <tr>\n",
       "      <th>1</th>\n",
       "      <td>16.9</td>\n",
       "      <td>2010-01-05 16:52:16</td>\n",
       "      <td>-74.016048</td>\n",
       "      <td>40.711303</td>\n",
       "      <td>-73.979268</td>\n",
       "      <td>40.782004</td>\n",
       "      <td>1.0</td>\n",
       "    </tr>\n",
       "    <tr>\n",
       "      <th>2</th>\n",
       "      <td>5.7</td>\n",
       "      <td>2011-08-18 00:35:00</td>\n",
       "      <td>-73.982738</td>\n",
       "      <td>40.761270</td>\n",
       "      <td>-73.991242</td>\n",
       "      <td>40.750562</td>\n",
       "      <td>2.0</td>\n",
       "    </tr>\n",
       "    <tr>\n",
       "      <th>3</th>\n",
       "      <td>7.7</td>\n",
       "      <td>2012-04-21 04:30:42</td>\n",
       "      <td>-73.987130</td>\n",
       "      <td>40.733143</td>\n",
       "      <td>-73.991567</td>\n",
       "      <td>40.758092</td>\n",
       "      <td>1.0</td>\n",
       "    </tr>\n",
       "    <tr>\n",
       "      <th>4</th>\n",
       "      <td>5.3</td>\n",
       "      <td>2010-03-09 07:51:00</td>\n",
       "      <td>-73.968095</td>\n",
       "      <td>40.768008</td>\n",
       "      <td>-73.956655</td>\n",
       "      <td>40.783762</td>\n",
       "      <td>1.0</td>\n",
       "    </tr>\n",
       "  </tbody>\n",
       "</table>\n",
       "</div>"
      ],
      "text/plain": [
       "   fare_amount      pickup_datetime  pickup_longitude  pickup_latitude  \\\n",
       "0          4.5  2009-06-15 17:26:21        -73.844311        40.721319   \n",
       "1         16.9  2010-01-05 16:52:16        -74.016048        40.711303   \n",
       "2          5.7  2011-08-18 00:35:00        -73.982738        40.761270   \n",
       "3          7.7  2012-04-21 04:30:42        -73.987130        40.733143   \n",
       "4          5.3  2010-03-09 07:51:00        -73.968095        40.768008   \n",
       "\n",
       "   dropoff_longitude  dropoff_latitude  passenger_count  \n",
       "0         -73.841610         40.712278              1.0  \n",
       "1         -73.979268         40.782004              1.0  \n",
       "2         -73.991242         40.750562              2.0  \n",
       "3         -73.991567         40.758092              1.0  \n",
       "4         -73.956655         40.783762              1.0  "
      ]
     },
     "execution_count": 7,
     "metadata": {},
     "output_type": "execute_result"
    }
   ],
   "source": [
    "df=pd.read_csv('taxi.csv')\n",
    "df.head()"
   ]
  },
  {
   "cell_type": "code",
   "execution_count": 8,
   "metadata": {},
   "outputs": [
    {
     "name": "stdout",
     "output_type": "stream",
     "text": [
      "<class 'pandas.core.frame.DataFrame'>\n",
      "RangeIndex: 18919 entries, 0 to 18918\n",
      "Data columns (total 7 columns):\n",
      " #   Column             Non-Null Count  Dtype  \n",
      "---  ------             --------------  -----  \n",
      " 0   fare_amount        18919 non-null  float64\n",
      " 1   pickup_datetime    18919 non-null  object \n",
      " 2   pickup_longitude   18919 non-null  float64\n",
      " 3   pickup_latitude    18919 non-null  float64\n",
      " 4   dropoff_longitude  18919 non-null  float64\n",
      " 5   dropoff_latitude   18919 non-null  float64\n",
      " 6   passenger_count    18918 non-null  float64\n",
      "dtypes: float64(6), object(1)\n",
      "memory usage: 1.0+ MB\n"
     ]
    }
   ],
   "source": [
    "df.info()"
   ]
  },
  {
   "cell_type": "markdown",
   "metadata": {},
   "source": [
    "## Handling missing value"
   ]
  },
  {
   "cell_type": "code",
   "execution_count": 9,
   "metadata": {},
   "outputs": [],
   "source": [
    "df.dropna(inplace=True)"
   ]
  },
  {
   "cell_type": "code",
   "execution_count": 10,
   "metadata": {},
   "outputs": [
    {
     "data": {
      "text/plain": [
       "fare_amount          float64\n",
       "pickup_datetime       object\n",
       "pickup_longitude     float64\n",
       "pickup_latitude      float64\n",
       "dropoff_longitude    float64\n",
       "dropoff_latitude     float64\n",
       "passenger_count      float64\n",
       "dtype: object"
      ]
     },
     "execution_count": 10,
     "metadata": {},
     "output_type": "execute_result"
    }
   ],
   "source": [
    "df.dtypes"
   ]
  },
  {
   "cell_type": "markdown",
   "metadata": {},
   "source": [
    "## Data types conversion"
   ]
  },
  {
   "cell_type": "code",
   "execution_count": 11,
   "metadata": {},
   "outputs": [],
   "source": [
    "df['pickup_datetime']=pd.to_datetime(df['pickup_datetime'])"
   ]
  },
  {
   "cell_type": "code",
   "execution_count": 12,
   "metadata": {},
   "outputs": [
    {
     "data": {
      "text/plain": [
       "fare_amount                 float64\n",
       "pickup_datetime      datetime64[ns]\n",
       "pickup_longitude            float64\n",
       "pickup_latitude             float64\n",
       "dropoff_longitude           float64\n",
       "dropoff_latitude            float64\n",
       "passenger_count             float64\n",
       "dtype: object"
      ]
     },
     "execution_count": 12,
     "metadata": {},
     "output_type": "execute_result"
    }
   ],
   "source": [
    "df.dtypes"
   ]
  },
  {
   "cell_type": "markdown",
   "metadata": {},
   "source": [
    "## Data Describe"
   ]
  },
  {
   "cell_type": "code",
   "execution_count": 13,
   "metadata": {},
   "outputs": [
    {
     "data": {
      "text/html": [
       "<div>\n",
       "<style scoped>\n",
       "    .dataframe tbody tr th:only-of-type {\n",
       "        vertical-align: middle;\n",
       "    }\n",
       "\n",
       "    .dataframe tbody tr th {\n",
       "        vertical-align: top;\n",
       "    }\n",
       "\n",
       "    .dataframe thead th {\n",
       "        text-align: right;\n",
       "    }\n",
       "</style>\n",
       "<table border=\"1\" class=\"dataframe\">\n",
       "  <thead>\n",
       "    <tr style=\"text-align: right;\">\n",
       "      <th></th>\n",
       "      <th>fare_amount</th>\n",
       "      <th>pickup_longitude</th>\n",
       "      <th>pickup_latitude</th>\n",
       "      <th>dropoff_longitude</th>\n",
       "      <th>dropoff_latitude</th>\n",
       "      <th>passenger_count</th>\n",
       "    </tr>\n",
       "  </thead>\n",
       "  <tbody>\n",
       "    <tr>\n",
       "      <th>count</th>\n",
       "      <td>18918.000000</td>\n",
       "      <td>18918.000000</td>\n",
       "      <td>18918.000000</td>\n",
       "      <td>18918.000000</td>\n",
       "      <td>18918.000000</td>\n",
       "      <td>18918.000000</td>\n",
       "    </tr>\n",
       "    <tr>\n",
       "      <th>mean</th>\n",
       "      <td>11.289221</td>\n",
       "      <td>-72.486834</td>\n",
       "      <td>39.925272</td>\n",
       "      <td>-72.498734</td>\n",
       "      <td>39.913116</td>\n",
       "      <td>1.657205</td>\n",
       "    </tr>\n",
       "    <tr>\n",
       "      <th>std</th>\n",
       "      <td>9.551667</td>\n",
       "      <td>10.503808</td>\n",
       "      <td>6.715228</td>\n",
       "      <td>10.461670</td>\n",
       "      <td>6.160671</td>\n",
       "      <td>1.282236</td>\n",
       "    </tr>\n",
       "    <tr>\n",
       "      <th>min</th>\n",
       "      <td>-3.000000</td>\n",
       "      <td>-74.438233</td>\n",
       "      <td>-74.006893</td>\n",
       "      <td>-84.654241</td>\n",
       "      <td>-74.006377</td>\n",
       "      <td>0.000000</td>\n",
       "    </tr>\n",
       "    <tr>\n",
       "      <th>25%</th>\n",
       "      <td>6.000000</td>\n",
       "      <td>-73.992223</td>\n",
       "      <td>40.734687</td>\n",
       "      <td>-73.991233</td>\n",
       "      <td>40.734589</td>\n",
       "      <td>1.000000</td>\n",
       "    </tr>\n",
       "    <tr>\n",
       "      <th>50%</th>\n",
       "      <td>8.500000</td>\n",
       "      <td>-73.981758</td>\n",
       "      <td>40.752620</td>\n",
       "      <td>-73.980234</td>\n",
       "      <td>40.753566</td>\n",
       "      <td>1.000000</td>\n",
       "    </tr>\n",
       "    <tr>\n",
       "      <th>75%</th>\n",
       "      <td>12.500000</td>\n",
       "      <td>-73.966788</td>\n",
       "      <td>40.767427</td>\n",
       "      <td>-73.963834</td>\n",
       "      <td>40.768067</td>\n",
       "      <td>2.000000</td>\n",
       "    </tr>\n",
       "    <tr>\n",
       "      <th>max</th>\n",
       "      <td>180.000000</td>\n",
       "      <td>40.766125</td>\n",
       "      <td>401.083332</td>\n",
       "      <td>40.802437</td>\n",
       "      <td>41.366138</td>\n",
       "      <td>6.000000</td>\n",
       "    </tr>\n",
       "  </tbody>\n",
       "</table>\n",
       "</div>"
      ],
      "text/plain": [
       "        fare_amount  pickup_longitude  pickup_latitude  dropoff_longitude  \\\n",
       "count  18918.000000      18918.000000     18918.000000       18918.000000   \n",
       "mean      11.289221        -72.486834        39.925272         -72.498734   \n",
       "std        9.551667         10.503808         6.715228          10.461670   \n",
       "min       -3.000000        -74.438233       -74.006893         -84.654241   \n",
       "25%        6.000000        -73.992223        40.734687         -73.991233   \n",
       "50%        8.500000        -73.981758        40.752620         -73.980234   \n",
       "75%       12.500000        -73.966788        40.767427         -73.963834   \n",
       "max      180.000000         40.766125       401.083332          40.802437   \n",
       "\n",
       "       dropoff_latitude  passenger_count  \n",
       "count      18918.000000     18918.000000  \n",
       "mean          39.913116         1.657205  \n",
       "std            6.160671         1.282236  \n",
       "min          -74.006377         0.000000  \n",
       "25%           40.734589         1.000000  \n",
       "50%           40.753566         1.000000  \n",
       "75%           40.768067         2.000000  \n",
       "max           41.366138         6.000000  "
      ]
     },
     "execution_count": 13,
     "metadata": {},
     "output_type": "execute_result"
    }
   ],
   "source": [
    "df.describe()"
   ]
  },
  {
   "cell_type": "markdown",
   "metadata": {},
   "source": [
    "## Data Preparation"
   ]
  },
  {
   "cell_type": "markdown",
   "metadata": {},
   "source": [
    "### Adding Features - Features Extraction\n",
    "- Jarak (simplify)\n",
    "- Jam (jam pulang dan berangkat kerja)\n",
    "- Hari (Hari kerja atau hari libur)\n",
    "- Lokasi\n",
    "- Tahun\n",
    "- Jumlah penumpang"
   ]
  },
  {
   "cell_type": "markdown",
   "metadata": {},
   "source": [
    "### Features Extraction - Datetime Extract"
   ]
  },
  {
   "cell_type": "code",
   "execution_count": 14,
   "metadata": {},
   "outputs": [],
   "source": [
    "pickup_dt = df['pickup_datetime'].dt"
   ]
  },
  {
   "cell_type": "code",
   "execution_count": 15,
   "metadata": {},
   "outputs": [],
   "source": [
    "df['year']=pickup_dt.year\n",
    "df['month']=pickup_dt.month\n",
    "df['day']=pickup_dt.day\n",
    "df['hour']=pickup_dt.hour"
   ]
  },
  {
   "cell_type": "code",
   "execution_count": 16,
   "metadata": {},
   "outputs": [],
   "source": [
    "df.drop(columns='pickup_datetime', inplace=True)"
   ]
  },
  {
   "cell_type": "markdown",
   "metadata": {},
   "source": [
    "### Feature Extraction - Membuat Features Jarak - Simplify"
   ]
  },
  {
   "cell_type": "code",
   "execution_count": 17,
   "metadata": {},
   "outputs": [],
   "source": [
    "\n",
    "df['distance']=abs((df['pickup_longitude']-df['dropoff_longitude'])+(df['pickup_latitude']-df['dropoff_latitude']))"
   ]
  },
  {
   "cell_type": "code",
   "execution_count": 18,
   "metadata": {},
   "outputs": [],
   "source": [
    "df.drop(columns=['pickup_longitude', 'dropoff_longitude', 'pickup_latitude', 'dropoff_latitude'], inplace=True)"
   ]
  },
  {
   "cell_type": "code",
   "execution_count": 19,
   "metadata": {},
   "outputs": [
    {
     "data": {
      "text/html": [
       "<div>\n",
       "<style scoped>\n",
       "    .dataframe tbody tr th:only-of-type {\n",
       "        vertical-align: middle;\n",
       "    }\n",
       "\n",
       "    .dataframe tbody tr th {\n",
       "        vertical-align: top;\n",
       "    }\n",
       "\n",
       "    .dataframe thead th {\n",
       "        text-align: right;\n",
       "    }\n",
       "</style>\n",
       "<table border=\"1\" class=\"dataframe\">\n",
       "  <thead>\n",
       "    <tr style=\"text-align: right;\">\n",
       "      <th></th>\n",
       "      <th>fare_amount</th>\n",
       "      <th>passenger_count</th>\n",
       "      <th>year</th>\n",
       "      <th>month</th>\n",
       "      <th>day</th>\n",
       "      <th>hour</th>\n",
       "      <th>distance</th>\n",
       "    </tr>\n",
       "  </thead>\n",
       "  <tbody>\n",
       "    <tr>\n",
       "      <th>0</th>\n",
       "      <td>4.5</td>\n",
       "      <td>1.0</td>\n",
       "      <td>2009</td>\n",
       "      <td>6</td>\n",
       "      <td>15</td>\n",
       "      <td>17</td>\n",
       "      <td>0.006340</td>\n",
       "    </tr>\n",
       "    <tr>\n",
       "      <th>1</th>\n",
       "      <td>16.9</td>\n",
       "      <td>1.0</td>\n",
       "      <td>2010</td>\n",
       "      <td>1</td>\n",
       "      <td>5</td>\n",
       "      <td>16</td>\n",
       "      <td>0.107481</td>\n",
       "    </tr>\n",
       "    <tr>\n",
       "      <th>2</th>\n",
       "      <td>5.7</td>\n",
       "      <td>2.0</td>\n",
       "      <td>2011</td>\n",
       "      <td>8</td>\n",
       "      <td>18</td>\n",
       "      <td>0</td>\n",
       "      <td>0.019212</td>\n",
       "    </tr>\n",
       "    <tr>\n",
       "      <th>3</th>\n",
       "      <td>7.7</td>\n",
       "      <td>1.0</td>\n",
       "      <td>2012</td>\n",
       "      <td>4</td>\n",
       "      <td>21</td>\n",
       "      <td>4</td>\n",
       "      <td>0.020512</td>\n",
       "    </tr>\n",
       "    <tr>\n",
       "      <th>4</th>\n",
       "      <td>5.3</td>\n",
       "      <td>1.0</td>\n",
       "      <td>2010</td>\n",
       "      <td>3</td>\n",
       "      <td>9</td>\n",
       "      <td>7</td>\n",
       "      <td>0.027194</td>\n",
       "    </tr>\n",
       "  </tbody>\n",
       "</table>\n",
       "</div>"
      ],
      "text/plain": [
       "   fare_amount  passenger_count  year  month  day  hour  distance\n",
       "0          4.5              1.0  2009      6   15    17  0.006340\n",
       "1         16.9              1.0  2010      1    5    16  0.107481\n",
       "2          5.7              2.0  2011      8   18     0  0.019212\n",
       "3          7.7              1.0  2012      4   21     4  0.020512\n",
       "4          5.3              1.0  2010      3    9     7  0.027194"
      ]
     },
     "execution_count": 19,
     "metadata": {},
     "output_type": "execute_result"
    }
   ],
   "source": [
    "df.head()"
   ]
  },
  {
   "cell_type": "markdown",
   "metadata": {},
   "source": [
    "## Machine learning modelling"
   ]
  },
  {
   "cell_type": "markdown",
   "metadata": {},
   "source": [
    "### Splitting Data"
   ]
  },
  {
   "cell_type": "code",
   "execution_count": 20,
   "metadata": {},
   "outputs": [],
   "source": [
    "from sklearn.model_selection import train_test_split"
   ]
  },
  {
   "cell_type": "code",
   "execution_count": 21,
   "metadata": {},
   "outputs": [],
   "source": [
    "x=df.drop(columns='fare_amount')\n",
    "y=df['fare_amount']"
   ]
  },
  {
   "cell_type": "code",
   "execution_count": 22,
   "metadata": {},
   "outputs": [],
   "source": [
    "x_train, x_test, y_train, y_test= train_test_split(x,y,test_size=.15,random_state=42)"
   ]
  },
  {
   "cell_type": "code",
   "execution_count": 23,
   "metadata": {},
   "outputs": [
    {
     "data": {
      "text/plain": [
       "(16080, 6)"
      ]
     },
     "execution_count": 23,
     "metadata": {},
     "output_type": "execute_result"
    }
   ],
   "source": [
    "x_train.shape"
   ]
  },
  {
   "cell_type": "code",
   "execution_count": 24,
   "metadata": {},
   "outputs": [
    {
     "data": {
      "text/plain": [
       "(2838, 6)"
      ]
     },
     "execution_count": 24,
     "metadata": {},
     "output_type": "execute_result"
    }
   ],
   "source": [
    "x_test.shape"
   ]
  },
  {
   "cell_type": "code",
   "execution_count": 25,
   "metadata": {},
   "outputs": [
    {
     "data": {
      "text/html": [
       "<div>\n",
       "<style scoped>\n",
       "    .dataframe tbody tr th:only-of-type {\n",
       "        vertical-align: middle;\n",
       "    }\n",
       "\n",
       "    .dataframe tbody tr th {\n",
       "        vertical-align: top;\n",
       "    }\n",
       "\n",
       "    .dataframe thead th {\n",
       "        text-align: right;\n",
       "    }\n",
       "</style>\n",
       "<table border=\"1\" class=\"dataframe\">\n",
       "  <thead>\n",
       "    <tr style=\"text-align: right;\">\n",
       "      <th></th>\n",
       "      <th>passenger_count</th>\n",
       "      <th>year</th>\n",
       "      <th>month</th>\n",
       "      <th>day</th>\n",
       "      <th>hour</th>\n",
       "      <th>distance</th>\n",
       "    </tr>\n",
       "  </thead>\n",
       "  <tbody>\n",
       "    <tr>\n",
       "      <th>2760</th>\n",
       "      <td>3.0</td>\n",
       "      <td>2014</td>\n",
       "      <td>11</td>\n",
       "      <td>5</td>\n",
       "      <td>0</td>\n",
       "      <td>0.038267</td>\n",
       "    </tr>\n",
       "    <tr>\n",
       "      <th>13436</th>\n",
       "      <td>1.0</td>\n",
       "      <td>2015</td>\n",
       "      <td>1</td>\n",
       "      <td>8</td>\n",
       "      <td>11</td>\n",
       "      <td>0.076557</td>\n",
       "    </tr>\n",
       "    <tr>\n",
       "      <th>5746</th>\n",
       "      <td>1.0</td>\n",
       "      <td>2011</td>\n",
       "      <td>10</td>\n",
       "      <td>2</td>\n",
       "      <td>10</td>\n",
       "      <td>0.016469</td>\n",
       "    </tr>\n",
       "    <tr>\n",
       "      <th>5998</th>\n",
       "      <td>1.0</td>\n",
       "      <td>2014</td>\n",
       "      <td>12</td>\n",
       "      <td>21</td>\n",
       "      <td>22</td>\n",
       "      <td>0.062633</td>\n",
       "    </tr>\n",
       "    <tr>\n",
       "      <th>6896</th>\n",
       "      <td>6.0</td>\n",
       "      <td>2014</td>\n",
       "      <td>9</td>\n",
       "      <td>3</td>\n",
       "      <td>17</td>\n",
       "      <td>0.018300</td>\n",
       "    </tr>\n",
       "  </tbody>\n",
       "</table>\n",
       "</div>"
      ],
      "text/plain": [
       "       passenger_count  year  month  day  hour  distance\n",
       "2760               3.0  2014     11    5     0  0.038267\n",
       "13436              1.0  2015      1    8    11  0.076557\n",
       "5746               1.0  2011     10    2    10  0.016469\n",
       "5998               1.0  2014     12   21    22  0.062633\n",
       "6896               6.0  2014      9    3    17  0.018300"
      ]
     },
     "execution_count": 25,
     "metadata": {},
     "output_type": "execute_result"
    }
   ],
   "source": [
    "x_train.head()"
   ]
  },
  {
   "cell_type": "code",
   "execution_count": 26,
   "metadata": {},
   "outputs": [],
   "source": [
    "from sklearn.linear_model import LinearRegression, Ridge, Lasso, ElasticNet\n",
    "from sklearn.metrics import r2_score, mean_absolute_error, mean_squared_error"
   ]
  },
  {
   "cell_type": "markdown",
   "metadata": {},
   "source": [
    "### Model Training"
   ]
  },
  {
   "cell_type": "markdown",
   "metadata": {},
   "source": [
    "#### Base Model"
   ]
  },
  {
   "cell_type": "code",
   "execution_count": 27,
   "metadata": {},
   "outputs": [],
   "source": [
    "model_LR=LinearRegression(fit_intercept=False)"
   ]
  },
  {
   "cell_type": "code",
   "execution_count": 28,
   "metadata": {},
   "outputs": [
    {
     "data": {
      "text/html": [
       "<style>#sk-container-id-1 {color: black;background-color: white;}#sk-container-id-1 pre{padding: 0;}#sk-container-id-1 div.sk-toggleable {background-color: white;}#sk-container-id-1 label.sk-toggleable__label {cursor: pointer;display: block;width: 100%;margin-bottom: 0;padding: 0.3em;box-sizing: border-box;text-align: center;}#sk-container-id-1 label.sk-toggleable__label-arrow:before {content: \"▸\";float: left;margin-right: 0.25em;color: #696969;}#sk-container-id-1 label.sk-toggleable__label-arrow:hover:before {color: black;}#sk-container-id-1 div.sk-estimator:hover label.sk-toggleable__label-arrow:before {color: black;}#sk-container-id-1 div.sk-toggleable__content {max-height: 0;max-width: 0;overflow: hidden;text-align: left;background-color: #f0f8ff;}#sk-container-id-1 div.sk-toggleable__content pre {margin: 0.2em;color: black;border-radius: 0.25em;background-color: #f0f8ff;}#sk-container-id-1 input.sk-toggleable__control:checked~div.sk-toggleable__content {max-height: 200px;max-width: 100%;overflow: auto;}#sk-container-id-1 input.sk-toggleable__control:checked~label.sk-toggleable__label-arrow:before {content: \"▾\";}#sk-container-id-1 div.sk-estimator input.sk-toggleable__control:checked~label.sk-toggleable__label {background-color: #d4ebff;}#sk-container-id-1 div.sk-label input.sk-toggleable__control:checked~label.sk-toggleable__label {background-color: #d4ebff;}#sk-container-id-1 input.sk-hidden--visually {border: 0;clip: rect(1px 1px 1px 1px);clip: rect(1px, 1px, 1px, 1px);height: 1px;margin: -1px;overflow: hidden;padding: 0;position: absolute;width: 1px;}#sk-container-id-1 div.sk-estimator {font-family: monospace;background-color: #f0f8ff;border: 1px dotted black;border-radius: 0.25em;box-sizing: border-box;margin-bottom: 0.5em;}#sk-container-id-1 div.sk-estimator:hover {background-color: #d4ebff;}#sk-container-id-1 div.sk-parallel-item::after {content: \"\";width: 100%;border-bottom: 1px solid gray;flex-grow: 1;}#sk-container-id-1 div.sk-label:hover label.sk-toggleable__label {background-color: #d4ebff;}#sk-container-id-1 div.sk-serial::before {content: \"\";position: absolute;border-left: 1px solid gray;box-sizing: border-box;top: 0;bottom: 0;left: 50%;z-index: 0;}#sk-container-id-1 div.sk-serial {display: flex;flex-direction: column;align-items: center;background-color: white;padding-right: 0.2em;padding-left: 0.2em;position: relative;}#sk-container-id-1 div.sk-item {position: relative;z-index: 1;}#sk-container-id-1 div.sk-parallel {display: flex;align-items: stretch;justify-content: center;background-color: white;position: relative;}#sk-container-id-1 div.sk-item::before, #sk-container-id-1 div.sk-parallel-item::before {content: \"\";position: absolute;border-left: 1px solid gray;box-sizing: border-box;top: 0;bottom: 0;left: 50%;z-index: -1;}#sk-container-id-1 div.sk-parallel-item {display: flex;flex-direction: column;z-index: 1;position: relative;background-color: white;}#sk-container-id-1 div.sk-parallel-item:first-child::after {align-self: flex-end;width: 50%;}#sk-container-id-1 div.sk-parallel-item:last-child::after {align-self: flex-start;width: 50%;}#sk-container-id-1 div.sk-parallel-item:only-child::after {width: 0;}#sk-container-id-1 div.sk-dashed-wrapped {border: 1px dashed gray;margin: 0 0.4em 0.5em 0.4em;box-sizing: border-box;padding-bottom: 0.4em;background-color: white;}#sk-container-id-1 div.sk-label label {font-family: monospace;font-weight: bold;display: inline-block;line-height: 1.2em;}#sk-container-id-1 div.sk-label-container {text-align: center;}#sk-container-id-1 div.sk-container {/* jupyter's `normalize.less` sets `[hidden] { display: none; }` but bootstrap.min.css set `[hidden] { display: none !important; }` so we also need the `!important` here to be able to override the default hidden behavior on the sphinx rendered scikit-learn.org. See: https://github.com/scikit-learn/scikit-learn/issues/21755 */display: inline-block !important;position: relative;}#sk-container-id-1 div.sk-text-repr-fallback {display: none;}</style><div id=\"sk-container-id-1\" class=\"sk-top-container\"><div class=\"sk-text-repr-fallback\"><pre>LinearRegression(fit_intercept=False)</pre><b>In a Jupyter environment, please rerun this cell to show the HTML representation or trust the notebook. <br />On GitHub, the HTML representation is unable to render, please try loading this page with nbviewer.org.</b></div><div class=\"sk-container\" hidden><div class=\"sk-item\"><div class=\"sk-estimator sk-toggleable\"><input class=\"sk-toggleable__control sk-hidden--visually\" id=\"sk-estimator-id-1\" type=\"checkbox\" checked><label for=\"sk-estimator-id-1\" class=\"sk-toggleable__label sk-toggleable__label-arrow\">LinearRegression</label><div class=\"sk-toggleable__content\"><pre>LinearRegression(fit_intercept=False)</pre></div></div></div></div></div>"
      ],
      "text/plain": [
       "LinearRegression(fit_intercept=False)"
      ]
     },
     "execution_count": 28,
     "metadata": {},
     "output_type": "execute_result"
    }
   ],
   "source": [
    "model_LR.fit(x_train,y_train)"
   ]
  },
  {
   "cell_type": "code",
   "execution_count": 29,
   "metadata": {},
   "outputs": [],
   "source": [
    "def Eva_Matrix(Model,x,y_true):\n",
    "    y_pred=Model.predict(x)\n",
    "    R2=r2_score(y_true,y_pred)\n",
    "    MAE=mean_absolute_error(y_true,y_pred)\n",
    "    MSE=mean_squared_error(y_true,y_pred)\n",
    "    RMSE=np.sqrt(MSE)\n",
    "    return R2,MAE,MSE,RMSE"
   ]
  },
  {
   "cell_type": "code",
   "execution_count": 30,
   "metadata": {},
   "outputs": [],
   "source": [
    "# Training\n",
    "r2_LR_tr,MAE_LR_tr, MSE_LR_tr,RMSE_LR_tr=Eva_Matrix(model_LR,x_train,y_train)"
   ]
  },
  {
   "cell_type": "code",
   "execution_count": 31,
   "metadata": {},
   "outputs": [],
   "source": [
    "# Testing\n",
    "r2_LR_ts,MAE_LR_ts, MSE_LR_ts,RMSE_LR_ts=Eva_Matrix(model_LR,x_test,y_test)"
   ]
  },
  {
   "cell_type": "code",
   "execution_count": 32,
   "metadata": {},
   "outputs": [
    {
     "data": {
      "text/html": [
       "<div>\n",
       "<style scoped>\n",
       "    .dataframe tbody tr th:only-of-type {\n",
       "        vertical-align: middle;\n",
       "    }\n",
       "\n",
       "    .dataframe tbody tr th {\n",
       "        vertical-align: top;\n",
       "    }\n",
       "\n",
       "    .dataframe thead th {\n",
       "        text-align: right;\n",
       "    }\n",
       "</style>\n",
       "<table border=\"1\" class=\"dataframe\">\n",
       "  <thead>\n",
       "    <tr style=\"text-align: right;\">\n",
       "      <th></th>\n",
       "      <th>LinearReg Training</th>\n",
       "      <th>LenarReg Test</th>\n",
       "    </tr>\n",
       "  </thead>\n",
       "  <tbody>\n",
       "    <tr>\n",
       "      <th>R2</th>\n",
       "      <td>0.002133</td>\n",
       "      <td>0.003077</td>\n",
       "    </tr>\n",
       "    <tr>\n",
       "      <th>MAE</th>\n",
       "      <td>6.012494</td>\n",
       "      <td>5.744713</td>\n",
       "    </tr>\n",
       "    <tr>\n",
       "      <th>MSE</th>\n",
       "      <td>92.126114</td>\n",
       "      <td>84.686428</td>\n",
       "    </tr>\n",
       "    <tr>\n",
       "      <th>RMSE</th>\n",
       "      <td>9.598235</td>\n",
       "      <td>9.202523</td>\n",
       "    </tr>\n",
       "  </tbody>\n",
       "</table>\n",
       "</div>"
      ],
      "text/plain": [
       "      LinearReg Training  LenarReg Test\n",
       "R2              0.002133       0.003077\n",
       "MAE             6.012494       5.744713\n",
       "MSE            92.126114      84.686428\n",
       "RMSE            9.598235       9.202523"
      ]
     },
     "execution_count": 32,
     "metadata": {},
     "output_type": "execute_result"
    }
   ],
   "source": [
    "eva_data={\n",
    "    'LinearReg Training':[r2_LR_tr,MAE_LR_tr,MSE_LR_tr,RMSE_LR_tr],\n",
    "    'LenarReg Test':[r2_LR_ts,MAE_LR_ts,MSE_LR_ts,RMSE_LR_ts]\n",
    "}\n",
    "pd.DataFrame(eva_data,index=['R2','MAE','MSE','RMSE'])"
   ]
  },
  {
   "cell_type": "markdown",
   "metadata": {},
   "source": [
    "#### Ridge"
   ]
  },
  {
   "cell_type": "code",
   "execution_count": 33,
   "metadata": {},
   "outputs": [],
   "source": [
    "model_R=Ridge()"
   ]
  },
  {
   "cell_type": "code",
   "execution_count": 34,
   "metadata": {},
   "outputs": [
    {
     "data": {
      "text/html": [
       "<style>#sk-container-id-2 {color: black;background-color: white;}#sk-container-id-2 pre{padding: 0;}#sk-container-id-2 div.sk-toggleable {background-color: white;}#sk-container-id-2 label.sk-toggleable__label {cursor: pointer;display: block;width: 100%;margin-bottom: 0;padding: 0.3em;box-sizing: border-box;text-align: center;}#sk-container-id-2 label.sk-toggleable__label-arrow:before {content: \"▸\";float: left;margin-right: 0.25em;color: #696969;}#sk-container-id-2 label.sk-toggleable__label-arrow:hover:before {color: black;}#sk-container-id-2 div.sk-estimator:hover label.sk-toggleable__label-arrow:before {color: black;}#sk-container-id-2 div.sk-toggleable__content {max-height: 0;max-width: 0;overflow: hidden;text-align: left;background-color: #f0f8ff;}#sk-container-id-2 div.sk-toggleable__content pre {margin: 0.2em;color: black;border-radius: 0.25em;background-color: #f0f8ff;}#sk-container-id-2 input.sk-toggleable__control:checked~div.sk-toggleable__content {max-height: 200px;max-width: 100%;overflow: auto;}#sk-container-id-2 input.sk-toggleable__control:checked~label.sk-toggleable__label-arrow:before {content: \"▾\";}#sk-container-id-2 div.sk-estimator input.sk-toggleable__control:checked~label.sk-toggleable__label {background-color: #d4ebff;}#sk-container-id-2 div.sk-label input.sk-toggleable__control:checked~label.sk-toggleable__label {background-color: #d4ebff;}#sk-container-id-2 input.sk-hidden--visually {border: 0;clip: rect(1px 1px 1px 1px);clip: rect(1px, 1px, 1px, 1px);height: 1px;margin: -1px;overflow: hidden;padding: 0;position: absolute;width: 1px;}#sk-container-id-2 div.sk-estimator {font-family: monospace;background-color: #f0f8ff;border: 1px dotted black;border-radius: 0.25em;box-sizing: border-box;margin-bottom: 0.5em;}#sk-container-id-2 div.sk-estimator:hover {background-color: #d4ebff;}#sk-container-id-2 div.sk-parallel-item::after {content: \"\";width: 100%;border-bottom: 1px solid gray;flex-grow: 1;}#sk-container-id-2 div.sk-label:hover label.sk-toggleable__label {background-color: #d4ebff;}#sk-container-id-2 div.sk-serial::before {content: \"\";position: absolute;border-left: 1px solid gray;box-sizing: border-box;top: 0;bottom: 0;left: 50%;z-index: 0;}#sk-container-id-2 div.sk-serial {display: flex;flex-direction: column;align-items: center;background-color: white;padding-right: 0.2em;padding-left: 0.2em;position: relative;}#sk-container-id-2 div.sk-item {position: relative;z-index: 1;}#sk-container-id-2 div.sk-parallel {display: flex;align-items: stretch;justify-content: center;background-color: white;position: relative;}#sk-container-id-2 div.sk-item::before, #sk-container-id-2 div.sk-parallel-item::before {content: \"\";position: absolute;border-left: 1px solid gray;box-sizing: border-box;top: 0;bottom: 0;left: 50%;z-index: -1;}#sk-container-id-2 div.sk-parallel-item {display: flex;flex-direction: column;z-index: 1;position: relative;background-color: white;}#sk-container-id-2 div.sk-parallel-item:first-child::after {align-self: flex-end;width: 50%;}#sk-container-id-2 div.sk-parallel-item:last-child::after {align-self: flex-start;width: 50%;}#sk-container-id-2 div.sk-parallel-item:only-child::after {width: 0;}#sk-container-id-2 div.sk-dashed-wrapped {border: 1px dashed gray;margin: 0 0.4em 0.5em 0.4em;box-sizing: border-box;padding-bottom: 0.4em;background-color: white;}#sk-container-id-2 div.sk-label label {font-family: monospace;font-weight: bold;display: inline-block;line-height: 1.2em;}#sk-container-id-2 div.sk-label-container {text-align: center;}#sk-container-id-2 div.sk-container {/* jupyter's `normalize.less` sets `[hidden] { display: none; }` but bootstrap.min.css set `[hidden] { display: none !important; }` so we also need the `!important` here to be able to override the default hidden behavior on the sphinx rendered scikit-learn.org. See: https://github.com/scikit-learn/scikit-learn/issues/21755 */display: inline-block !important;position: relative;}#sk-container-id-2 div.sk-text-repr-fallback {display: none;}</style><div id=\"sk-container-id-2\" class=\"sk-top-container\"><div class=\"sk-text-repr-fallback\"><pre>Ridge()</pre><b>In a Jupyter environment, please rerun this cell to show the HTML representation or trust the notebook. <br />On GitHub, the HTML representation is unable to render, please try loading this page with nbviewer.org.</b></div><div class=\"sk-container\" hidden><div class=\"sk-item\"><div class=\"sk-estimator sk-toggleable\"><input class=\"sk-toggleable__control sk-hidden--visually\" id=\"sk-estimator-id-2\" type=\"checkbox\" checked><label for=\"sk-estimator-id-2\" class=\"sk-toggleable__label sk-toggleable__label-arrow\">Ridge</label><div class=\"sk-toggleable__content\"><pre>Ridge()</pre></div></div></div></div></div>"
      ],
      "text/plain": [
       "Ridge()"
      ]
     },
     "execution_count": 34,
     "metadata": {},
     "output_type": "execute_result"
    }
   ],
   "source": [
    "model_R.fit(x_train,y_train)"
   ]
  },
  {
   "cell_type": "markdown",
   "metadata": {},
   "source": [
    "#### Elastic Net"
   ]
  },
  {
   "cell_type": "code",
   "execution_count": 35,
   "metadata": {},
   "outputs": [],
   "source": [
    "model_E=ElasticNet()"
   ]
  },
  {
   "cell_type": "code",
   "execution_count": 36,
   "metadata": {},
   "outputs": [
    {
     "data": {
      "text/html": [
       "<style>#sk-container-id-3 {color: black;background-color: white;}#sk-container-id-3 pre{padding: 0;}#sk-container-id-3 div.sk-toggleable {background-color: white;}#sk-container-id-3 label.sk-toggleable__label {cursor: pointer;display: block;width: 100%;margin-bottom: 0;padding: 0.3em;box-sizing: border-box;text-align: center;}#sk-container-id-3 label.sk-toggleable__label-arrow:before {content: \"▸\";float: left;margin-right: 0.25em;color: #696969;}#sk-container-id-3 label.sk-toggleable__label-arrow:hover:before {color: black;}#sk-container-id-3 div.sk-estimator:hover label.sk-toggleable__label-arrow:before {color: black;}#sk-container-id-3 div.sk-toggleable__content {max-height: 0;max-width: 0;overflow: hidden;text-align: left;background-color: #f0f8ff;}#sk-container-id-3 div.sk-toggleable__content pre {margin: 0.2em;color: black;border-radius: 0.25em;background-color: #f0f8ff;}#sk-container-id-3 input.sk-toggleable__control:checked~div.sk-toggleable__content {max-height: 200px;max-width: 100%;overflow: auto;}#sk-container-id-3 input.sk-toggleable__control:checked~label.sk-toggleable__label-arrow:before {content: \"▾\";}#sk-container-id-3 div.sk-estimator input.sk-toggleable__control:checked~label.sk-toggleable__label {background-color: #d4ebff;}#sk-container-id-3 div.sk-label input.sk-toggleable__control:checked~label.sk-toggleable__label {background-color: #d4ebff;}#sk-container-id-3 input.sk-hidden--visually {border: 0;clip: rect(1px 1px 1px 1px);clip: rect(1px, 1px, 1px, 1px);height: 1px;margin: -1px;overflow: hidden;padding: 0;position: absolute;width: 1px;}#sk-container-id-3 div.sk-estimator {font-family: monospace;background-color: #f0f8ff;border: 1px dotted black;border-radius: 0.25em;box-sizing: border-box;margin-bottom: 0.5em;}#sk-container-id-3 div.sk-estimator:hover {background-color: #d4ebff;}#sk-container-id-3 div.sk-parallel-item::after {content: \"\";width: 100%;border-bottom: 1px solid gray;flex-grow: 1;}#sk-container-id-3 div.sk-label:hover label.sk-toggleable__label {background-color: #d4ebff;}#sk-container-id-3 div.sk-serial::before {content: \"\";position: absolute;border-left: 1px solid gray;box-sizing: border-box;top: 0;bottom: 0;left: 50%;z-index: 0;}#sk-container-id-3 div.sk-serial {display: flex;flex-direction: column;align-items: center;background-color: white;padding-right: 0.2em;padding-left: 0.2em;position: relative;}#sk-container-id-3 div.sk-item {position: relative;z-index: 1;}#sk-container-id-3 div.sk-parallel {display: flex;align-items: stretch;justify-content: center;background-color: white;position: relative;}#sk-container-id-3 div.sk-item::before, #sk-container-id-3 div.sk-parallel-item::before {content: \"\";position: absolute;border-left: 1px solid gray;box-sizing: border-box;top: 0;bottom: 0;left: 50%;z-index: -1;}#sk-container-id-3 div.sk-parallel-item {display: flex;flex-direction: column;z-index: 1;position: relative;background-color: white;}#sk-container-id-3 div.sk-parallel-item:first-child::after {align-self: flex-end;width: 50%;}#sk-container-id-3 div.sk-parallel-item:last-child::after {align-self: flex-start;width: 50%;}#sk-container-id-3 div.sk-parallel-item:only-child::after {width: 0;}#sk-container-id-3 div.sk-dashed-wrapped {border: 1px dashed gray;margin: 0 0.4em 0.5em 0.4em;box-sizing: border-box;padding-bottom: 0.4em;background-color: white;}#sk-container-id-3 div.sk-label label {font-family: monospace;font-weight: bold;display: inline-block;line-height: 1.2em;}#sk-container-id-3 div.sk-label-container {text-align: center;}#sk-container-id-3 div.sk-container {/* jupyter's `normalize.less` sets `[hidden] { display: none; }` but bootstrap.min.css set `[hidden] { display: none !important; }` so we also need the `!important` here to be able to override the default hidden behavior on the sphinx rendered scikit-learn.org. See: https://github.com/scikit-learn/scikit-learn/issues/21755 */display: inline-block !important;position: relative;}#sk-container-id-3 div.sk-text-repr-fallback {display: none;}</style><div id=\"sk-container-id-3\" class=\"sk-top-container\"><div class=\"sk-text-repr-fallback\"><pre>ElasticNet()</pre><b>In a Jupyter environment, please rerun this cell to show the HTML representation or trust the notebook. <br />On GitHub, the HTML representation is unable to render, please try loading this page with nbviewer.org.</b></div><div class=\"sk-container\" hidden><div class=\"sk-item\"><div class=\"sk-estimator sk-toggleable\"><input class=\"sk-toggleable__control sk-hidden--visually\" id=\"sk-estimator-id-3\" type=\"checkbox\" checked><label for=\"sk-estimator-id-3\" class=\"sk-toggleable__label sk-toggleable__label-arrow\">ElasticNet</label><div class=\"sk-toggleable__content\"><pre>ElasticNet()</pre></div></div></div></div></div>"
      ],
      "text/plain": [
       "ElasticNet()"
      ]
     },
     "execution_count": 36,
     "metadata": {},
     "output_type": "execute_result"
    }
   ],
   "source": [
    "model_E.fit(x_train,y_train)"
   ]
  },
  {
   "cell_type": "code",
   "execution_count": 37,
   "metadata": {},
   "outputs": [],
   "source": [
    "def Eva_Matrix_DF(Model,x_train,x_test,y_train,y_test, Nama):\n",
    "    y_pred_tr=Model.predict(x_train)\n",
    "    R2_train=r2_score(y_train,y_pred_tr)\n",
    "    MAE_train=mean_absolute_error(y_train,y_pred_tr)\n",
    "    MSE_train=mean_squared_error(y_train,y_pred_tr)\n",
    "    RMSE_train=np.sqrt(MSE_train)\n",
    "    y_pred_ts=Model.predict(x_test)\n",
    "    R2_test=r2_score(y_test,y_pred_ts)\n",
    "    MAE_test=mean_absolute_error(y_test,y_pred_ts)\n",
    "    MSE_test=mean_squared_error(y_test,y_pred_ts)\n",
    "    RMSE_test=np.sqrt(MSE_test)\n",
    "    eva_data={\n",
    "    'Training'+Nama:[R2_train, MAE_train, MSE_train,RMSE_train],\n",
    "    'Test'+Nama:[R2_test,MAE_test,MSE_test,RMSE_test]\n",
    "}\n",
    "\n",
    "    df=pd.DataFrame(eva_data,index=['R2','MAE','MSE','RMSE'])\n",
    "    return df"
   ]
  },
  {
   "cell_type": "code",
   "execution_count": 38,
   "metadata": {},
   "outputs": [],
   "source": [
    "df_Ridge=Eva_Matrix_DF(model_R,x_train,x_test,y_train,y_test, 'Ridge')"
   ]
  },
  {
   "cell_type": "code",
   "execution_count": 39,
   "metadata": {},
   "outputs": [
    {
     "data": {
      "text/html": [
       "<div>\n",
       "<style scoped>\n",
       "    .dataframe tbody tr th:only-of-type {\n",
       "        vertical-align: middle;\n",
       "    }\n",
       "\n",
       "    .dataframe tbody tr th {\n",
       "        vertical-align: top;\n",
       "    }\n",
       "\n",
       "    .dataframe thead th {\n",
       "        text-align: right;\n",
       "    }\n",
       "</style>\n",
       "<table border=\"1\" class=\"dataframe\">\n",
       "  <thead>\n",
       "    <tr style=\"text-align: right;\">\n",
       "      <th></th>\n",
       "      <th>TrainingRidge</th>\n",
       "      <th>TestRidge</th>\n",
       "    </tr>\n",
       "  </thead>\n",
       "  <tbody>\n",
       "    <tr>\n",
       "      <th>R2</th>\n",
       "      <td>0.016011</td>\n",
       "      <td>0.017165</td>\n",
       "    </tr>\n",
       "    <tr>\n",
       "      <th>MAE</th>\n",
       "      <td>5.942780</td>\n",
       "      <td>5.678294</td>\n",
       "    </tr>\n",
       "    <tr>\n",
       "      <th>MSE</th>\n",
       "      <td>90.844816</td>\n",
       "      <td>83.489652</td>\n",
       "    </tr>\n",
       "    <tr>\n",
       "      <th>RMSE</th>\n",
       "      <td>9.531255</td>\n",
       "      <td>9.137267</td>\n",
       "    </tr>\n",
       "  </tbody>\n",
       "</table>\n",
       "</div>"
      ],
      "text/plain": [
       "      TrainingRidge  TestRidge\n",
       "R2         0.016011   0.017165\n",
       "MAE        5.942780   5.678294\n",
       "MSE       90.844816  83.489652\n",
       "RMSE       9.531255   9.137267"
      ]
     },
     "execution_count": 39,
     "metadata": {},
     "output_type": "execute_result"
    }
   ],
   "source": [
    "df_Ridge"
   ]
  },
  {
   "cell_type": "code",
   "execution_count": 40,
   "metadata": {},
   "outputs": [],
   "source": [
    "df_Enet=Eva_Matrix_DF(model_E,x_train,x_test,y_train,y_test, 'Enet')"
   ]
  },
  {
   "cell_type": "code",
   "execution_count": 41,
   "metadata": {},
   "outputs": [
    {
     "data": {
      "text/html": [
       "<div>\n",
       "<style scoped>\n",
       "    .dataframe tbody tr th:only-of-type {\n",
       "        vertical-align: middle;\n",
       "    }\n",
       "\n",
       "    .dataframe tbody tr th {\n",
       "        vertical-align: top;\n",
       "    }\n",
       "\n",
       "    .dataframe thead th {\n",
       "        text-align: right;\n",
       "    }\n",
       "</style>\n",
       "<table border=\"1\" class=\"dataframe\">\n",
       "  <thead>\n",
       "    <tr style=\"text-align: right;\">\n",
       "      <th></th>\n",
       "      <th>TrainingEnet</th>\n",
       "      <th>TestEnet</th>\n",
       "    </tr>\n",
       "  </thead>\n",
       "  <tbody>\n",
       "    <tr>\n",
       "      <th>R2</th>\n",
       "      <td>0.013784</td>\n",
       "      <td>0.014032</td>\n",
       "    </tr>\n",
       "    <tr>\n",
       "      <th>MAE</th>\n",
       "      <td>5.956253</td>\n",
       "      <td>5.689524</td>\n",
       "    </tr>\n",
       "    <tr>\n",
       "      <th>MSE</th>\n",
       "      <td>91.050468</td>\n",
       "      <td>83.755871</td>\n",
       "    </tr>\n",
       "    <tr>\n",
       "      <th>RMSE</th>\n",
       "      <td>9.542037</td>\n",
       "      <td>9.151823</td>\n",
       "    </tr>\n",
       "  </tbody>\n",
       "</table>\n",
       "</div>"
      ],
      "text/plain": [
       "      TrainingEnet   TestEnet\n",
       "R2        0.013784   0.014032\n",
       "MAE       5.956253   5.689524\n",
       "MSE      91.050468  83.755871\n",
       "RMSE      9.542037   9.151823"
      ]
     },
     "execution_count": 41,
     "metadata": {},
     "output_type": "execute_result"
    }
   ],
   "source": [
    "df_Enet"
   ]
  },
  {
   "cell_type": "markdown",
   "metadata": {},
   "source": [
    "#### Lasso"
   ]
  },
  {
   "cell_type": "code",
   "execution_count": 42,
   "metadata": {},
   "outputs": [],
   "source": [
    "def Eva_Matrix_Base(model,x_train,x_test,y_train,y_test, Nama):\n",
    "    Model=model.fit(x_train,y_train)\n",
    "    y_pred_tr=Model.predict(x_train)\n",
    "    R2_train=r2_score(y_train,y_pred_tr)\n",
    "    MAE_train=mean_absolute_error(y_train,y_pred_tr)\n",
    "    MSE_train=mean_squared_error(y_train,y_pred_tr)\n",
    "    RMSE_train=np.sqrt(MSE_train)\n",
    "    y_pred_ts=Model.predict(x_test)\n",
    "    R2_test=r2_score(y_test,y_pred_ts)\n",
    "    MAE_test=mean_absolute_error(y_test,y_pred_ts)\n",
    "    MSE_test=mean_squared_error(y_test,y_pred_ts)\n",
    "    RMSE_test=np.sqrt(MSE_test)\n",
    "    eva_data={\n",
    "    'Training'+Nama:[R2_train, MAE_train, MSE_train,RMSE_train],\n",
    "    'Test'+Nama:[R2_test,MAE_test,MSE_test,RMSE_test]\n",
    "}\n",
    "\n",
    "    df=pd.DataFrame(eva_data,index=['R2','MAE','MSE','RMSE'])\n",
    "    return Model,df"
   ]
  },
  {
   "cell_type": "code",
   "execution_count": 43,
   "metadata": {},
   "outputs": [],
   "source": [
    "model_L, df_Lasso=Eva_Matrix_Base(Lasso(),x_train,x_test,y_train,y_test, 'Lasso')"
   ]
  },
  {
   "cell_type": "code",
   "execution_count": 44,
   "metadata": {},
   "outputs": [
    {
     "data": {
      "text/html": [
       "<div>\n",
       "<style scoped>\n",
       "    .dataframe tbody tr th:only-of-type {\n",
       "        vertical-align: middle;\n",
       "    }\n",
       "\n",
       "    .dataframe tbody tr th {\n",
       "        vertical-align: top;\n",
       "    }\n",
       "\n",
       "    .dataframe thead th {\n",
       "        text-align: right;\n",
       "    }\n",
       "</style>\n",
       "<table border=\"1\" class=\"dataframe\">\n",
       "  <thead>\n",
       "    <tr style=\"text-align: right;\">\n",
       "      <th></th>\n",
       "      <th>TrainingLasso</th>\n",
       "      <th>TestLasso</th>\n",
       "    </tr>\n",
       "  </thead>\n",
       "  <tbody>\n",
       "    <tr>\n",
       "      <th>R2</th>\n",
       "      <td>0.011047</td>\n",
       "      <td>0.009871</td>\n",
       "    </tr>\n",
       "    <tr>\n",
       "      <th>MAE</th>\n",
       "      <td>5.970088</td>\n",
       "      <td>5.703573</td>\n",
       "    </tr>\n",
       "    <tr>\n",
       "      <th>MSE</th>\n",
       "      <td>91.303112</td>\n",
       "      <td>84.109328</td>\n",
       "    </tr>\n",
       "    <tr>\n",
       "      <th>RMSE</th>\n",
       "      <td>9.555266</td>\n",
       "      <td>9.171114</td>\n",
       "    </tr>\n",
       "  </tbody>\n",
       "</table>\n",
       "</div>"
      ],
      "text/plain": [
       "      TrainingLasso  TestLasso\n",
       "R2         0.011047   0.009871\n",
       "MAE        5.970088   5.703573\n",
       "MSE       91.303112  84.109328\n",
       "RMSE       9.555266   9.171114"
      ]
     },
     "execution_count": 44,
     "metadata": {},
     "output_type": "execute_result"
    }
   ],
   "source": [
    "df_Lasso"
   ]
  },
  {
   "cell_type": "code",
   "execution_count": 45,
   "metadata": {},
   "outputs": [],
   "source": [
    "df_LinReg=Eva_Matrix_DF(model_LR,x_train,x_test,y_train,y_test,'LinReg')"
   ]
  },
  {
   "cell_type": "code",
   "execution_count": 46,
   "metadata": {},
   "outputs": [
    {
     "data": {
      "text/html": [
       "<div>\n",
       "<style scoped>\n",
       "    .dataframe tbody tr th:only-of-type {\n",
       "        vertical-align: middle;\n",
       "    }\n",
       "\n",
       "    .dataframe tbody tr th {\n",
       "        vertical-align: top;\n",
       "    }\n",
       "\n",
       "    .dataframe thead th {\n",
       "        text-align: right;\n",
       "    }\n",
       "</style>\n",
       "<table border=\"1\" class=\"dataframe\">\n",
       "  <thead>\n",
       "    <tr style=\"text-align: right;\">\n",
       "      <th></th>\n",
       "      <th>TrainingLinReg</th>\n",
       "      <th>TestLinReg</th>\n",
       "    </tr>\n",
       "  </thead>\n",
       "  <tbody>\n",
       "    <tr>\n",
       "      <th>R2</th>\n",
       "      <td>0.002133</td>\n",
       "      <td>0.003077</td>\n",
       "    </tr>\n",
       "    <tr>\n",
       "      <th>MAE</th>\n",
       "      <td>6.012494</td>\n",
       "      <td>5.744713</td>\n",
       "    </tr>\n",
       "    <tr>\n",
       "      <th>MSE</th>\n",
       "      <td>92.126114</td>\n",
       "      <td>84.686428</td>\n",
       "    </tr>\n",
       "    <tr>\n",
       "      <th>RMSE</th>\n",
       "      <td>9.598235</td>\n",
       "      <td>9.202523</td>\n",
       "    </tr>\n",
       "  </tbody>\n",
       "</table>\n",
       "</div>"
      ],
      "text/plain": [
       "      TrainingLinReg  TestLinReg\n",
       "R2          0.002133    0.003077\n",
       "MAE         6.012494    5.744713\n",
       "MSE        92.126114   84.686428\n",
       "RMSE        9.598235    9.202523"
      ]
     },
     "execution_count": 46,
     "metadata": {},
     "output_type": "execute_result"
    }
   ],
   "source": [
    "df_LinReg"
   ]
  },
  {
   "cell_type": "markdown",
   "metadata": {},
   "source": [
    "## Evaluation Matrix"
   ]
  },
  {
   "cell_type": "code",
   "execution_count": 47,
   "metadata": {},
   "outputs": [
    {
     "data": {
      "text/html": [
       "<div>\n",
       "<style scoped>\n",
       "    .dataframe tbody tr th:only-of-type {\n",
       "        vertical-align: middle;\n",
       "    }\n",
       "\n",
       "    .dataframe tbody tr th {\n",
       "        vertical-align: top;\n",
       "    }\n",
       "\n",
       "    .dataframe thead th {\n",
       "        text-align: right;\n",
       "    }\n",
       "</style>\n",
       "<table border=\"1\" class=\"dataframe\">\n",
       "  <thead>\n",
       "    <tr style=\"text-align: right;\">\n",
       "      <th></th>\n",
       "      <th>R2</th>\n",
       "      <th>MAE</th>\n",
       "      <th>MSE</th>\n",
       "      <th>RMSE</th>\n",
       "    </tr>\n",
       "  </thead>\n",
       "  <tbody>\n",
       "    <tr>\n",
       "      <th>TrainingLinReg</th>\n",
       "      <td>0.002133</td>\n",
       "      <td>6.012494</td>\n",
       "      <td>92.126114</td>\n",
       "      <td>9.598235</td>\n",
       "    </tr>\n",
       "    <tr>\n",
       "      <th>TestLinReg</th>\n",
       "      <td>0.003077</td>\n",
       "      <td>5.744713</td>\n",
       "      <td>84.686428</td>\n",
       "      <td>9.202523</td>\n",
       "    </tr>\n",
       "    <tr>\n",
       "      <th>TrainingRidge</th>\n",
       "      <td>0.016011</td>\n",
       "      <td>5.942780</td>\n",
       "      <td>90.844816</td>\n",
       "      <td>9.531255</td>\n",
       "    </tr>\n",
       "    <tr>\n",
       "      <th>TestRidge</th>\n",
       "      <td>0.017165</td>\n",
       "      <td>5.678294</td>\n",
       "      <td>83.489652</td>\n",
       "      <td>9.137267</td>\n",
       "    </tr>\n",
       "    <tr>\n",
       "      <th>TrainingLasso</th>\n",
       "      <td>0.011047</td>\n",
       "      <td>5.970088</td>\n",
       "      <td>91.303112</td>\n",
       "      <td>9.555266</td>\n",
       "    </tr>\n",
       "    <tr>\n",
       "      <th>TestLasso</th>\n",
       "      <td>0.009871</td>\n",
       "      <td>5.703573</td>\n",
       "      <td>84.109328</td>\n",
       "      <td>9.171114</td>\n",
       "    </tr>\n",
       "    <tr>\n",
       "      <th>TrainingEnet</th>\n",
       "      <td>0.013784</td>\n",
       "      <td>5.956253</td>\n",
       "      <td>91.050468</td>\n",
       "      <td>9.542037</td>\n",
       "    </tr>\n",
       "    <tr>\n",
       "      <th>TestEnet</th>\n",
       "      <td>0.014032</td>\n",
       "      <td>5.689524</td>\n",
       "      <td>83.755871</td>\n",
       "      <td>9.151823</td>\n",
       "    </tr>\n",
       "  </tbody>\n",
       "</table>\n",
       "</div>"
      ],
      "text/plain": [
       "                      R2       MAE        MSE      RMSE\n",
       "TrainingLinReg  0.002133  6.012494  92.126114  9.598235\n",
       "TestLinReg      0.003077  5.744713  84.686428  9.202523\n",
       "TrainingRidge   0.016011  5.942780  90.844816  9.531255\n",
       "TestRidge       0.017165  5.678294  83.489652  9.137267\n",
       "TrainingLasso   0.011047  5.970088  91.303112  9.555266\n",
       "TestLasso       0.009871  5.703573  84.109328  9.171114\n",
       "TrainingEnet    0.013784  5.956253  91.050468  9.542037\n",
       "TestEnet        0.014032  5.689524  83.755871  9.151823"
      ]
     },
     "execution_count": 47,
     "metadata": {},
     "output_type": "execute_result"
    }
   ],
   "source": [
    "## Evaluation Matrix Comparison\n",
    "pd.concat([df_LinReg,df_Ridge,df_Lasso,df_Enet],axis=1).T"
   ]
  },
  {
   "cell_type": "markdown",
   "metadata": {},
   "source": [
    "## ML Improvement 1\n",
    "- Using Feature Engineering (Polynomial - Power Transformer)"
   ]
  },
  {
   "cell_type": "code",
   "execution_count": 48,
   "metadata": {},
   "outputs": [],
   "source": [
    "from sklearn.preprocessing import PolynomialFeatures, PowerTransformer"
   ]
  },
  {
   "cell_type": "code",
   "execution_count": 49,
   "metadata": {},
   "outputs": [],
   "source": [
    "poly=PolynomialFeatures(degree=3, include_bias=False)"
   ]
  },
  {
   "cell_type": "code",
   "execution_count": 50,
   "metadata": {},
   "outputs": [],
   "source": [
    "## Power Transformer\n",
    "yeo_pow=PowerTransformer('yeo-johnson')"
   ]
  },
  {
   "cell_type": "code",
   "execution_count": 51,
   "metadata": {},
   "outputs": [
    {
     "data": {
      "text/html": [
       "<div>\n",
       "<style scoped>\n",
       "    .dataframe tbody tr th:only-of-type {\n",
       "        vertical-align: middle;\n",
       "    }\n",
       "\n",
       "    .dataframe tbody tr th {\n",
       "        vertical-align: top;\n",
       "    }\n",
       "\n",
       "    .dataframe thead th {\n",
       "        text-align: right;\n",
       "    }\n",
       "</style>\n",
       "<table border=\"1\" class=\"dataframe\">\n",
       "  <thead>\n",
       "    <tr style=\"text-align: right;\">\n",
       "      <th></th>\n",
       "      <th>fare_amount</th>\n",
       "      <th>passenger_count</th>\n",
       "      <th>year</th>\n",
       "      <th>month</th>\n",
       "      <th>day</th>\n",
       "      <th>hour</th>\n",
       "      <th>distance</th>\n",
       "    </tr>\n",
       "  </thead>\n",
       "  <tbody>\n",
       "    <tr>\n",
       "      <th>0</th>\n",
       "      <td>4.5</td>\n",
       "      <td>1.0</td>\n",
       "      <td>2009</td>\n",
       "      <td>6</td>\n",
       "      <td>15</td>\n",
       "      <td>17</td>\n",
       "      <td>0.006340</td>\n",
       "    </tr>\n",
       "    <tr>\n",
       "      <th>1</th>\n",
       "      <td>16.9</td>\n",
       "      <td>1.0</td>\n",
       "      <td>2010</td>\n",
       "      <td>1</td>\n",
       "      <td>5</td>\n",
       "      <td>16</td>\n",
       "      <td>0.107481</td>\n",
       "    </tr>\n",
       "    <tr>\n",
       "      <th>2</th>\n",
       "      <td>5.7</td>\n",
       "      <td>2.0</td>\n",
       "      <td>2011</td>\n",
       "      <td>8</td>\n",
       "      <td>18</td>\n",
       "      <td>0</td>\n",
       "      <td>0.019212</td>\n",
       "    </tr>\n",
       "    <tr>\n",
       "      <th>3</th>\n",
       "      <td>7.7</td>\n",
       "      <td>1.0</td>\n",
       "      <td>2012</td>\n",
       "      <td>4</td>\n",
       "      <td>21</td>\n",
       "      <td>4</td>\n",
       "      <td>0.020512</td>\n",
       "    </tr>\n",
       "    <tr>\n",
       "      <th>4</th>\n",
       "      <td>5.3</td>\n",
       "      <td>1.0</td>\n",
       "      <td>2010</td>\n",
       "      <td>3</td>\n",
       "      <td>9</td>\n",
       "      <td>7</td>\n",
       "      <td>0.027194</td>\n",
       "    </tr>\n",
       "  </tbody>\n",
       "</table>\n",
       "</div>"
      ],
      "text/plain": [
       "   fare_amount  passenger_count  year  month  day  hour  distance\n",
       "0          4.5              1.0  2009      6   15    17  0.006340\n",
       "1         16.9              1.0  2010      1    5    16  0.107481\n",
       "2          5.7              2.0  2011      8   18     0  0.019212\n",
       "3          7.7              1.0  2012      4   21     4  0.020512\n",
       "4          5.3              1.0  2010      3    9     7  0.027194"
      ]
     },
     "execution_count": 51,
     "metadata": {},
     "output_type": "execute_result"
    }
   ],
   "source": [
    "df.head()"
   ]
  },
  {
   "cell_type": "code",
   "execution_count": 52,
   "metadata": {},
   "outputs": [],
   "source": [
    "num_col=df[['passenger_count','distance','year']]"
   ]
  },
  {
   "cell_type": "code",
   "execution_count": 53,
   "metadata": {},
   "outputs": [],
   "source": [
    "num_poly=poly.fit_transform(num_col)"
   ]
  },
  {
   "cell_type": "code",
   "execution_count": 54,
   "metadata": {},
   "outputs": [],
   "source": [
    "num_pow=yeo_pow.fit_transform(num_poly)"
   ]
  },
  {
   "cell_type": "code",
   "execution_count": 55,
   "metadata": {},
   "outputs": [
    {
     "data": {
      "text/plain": [
       "array([[-5.41041960e-01, -1.05323617e+00, -1.93067784e-13, ...,\n",
       "        -1.18486758e+00, -7.17413724e-01,  4.22772928e-13],\n",
       "       [-5.41041960e-01,  1.87884638e+00, -1.27398092e-13, ...,\n",
       "         1.66386404e+00,  1.21254575e+00,  4.26325641e-13],\n",
       "       [ 9.14193759e-01, -3.77609129e-01, -6.18394225e-14, ...,\n",
       "        -3.82918519e-01, -7.30113075e-02,  4.29878355e-13],\n",
       "       ...,\n",
       "       [-5.41041960e-01, -6.25738617e-01,  1.33948408e-13, ...,\n",
       "        -7.19249312e-01, -2.60688471e-01,  4.40314452e-13],\n",
       "       [-5.41041960e-01, -1.07303399e+00,  1.99007477e-13, ...,\n",
       "        -1.19943643e+00, -7.43065590e-01,  4.43867165e-13],\n",
       "       [-5.41041960e-01, -3.22180680e-01, -6.18394225e-14, ...,\n",
       "        -3.06516870e-01, -3.45565793e-02,  4.29878355e-13]])"
      ]
     },
     "execution_count": 55,
     "metadata": {},
     "output_type": "execute_result"
    }
   ],
   "source": [
    "num_pow"
   ]
  },
  {
   "cell_type": "code",
   "execution_count": 56,
   "metadata": {},
   "outputs": [],
   "source": [
    "df_pow=pd.DataFrame(num_pow)"
   ]
  },
  {
   "cell_type": "code",
   "execution_count": 57,
   "metadata": {},
   "outputs": [
    {
     "data": {
      "text/html": [
       "<div>\n",
       "<style scoped>\n",
       "    .dataframe tbody tr th:only-of-type {\n",
       "        vertical-align: middle;\n",
       "    }\n",
       "\n",
       "    .dataframe tbody tr th {\n",
       "        vertical-align: top;\n",
       "    }\n",
       "\n",
       "    .dataframe thead th {\n",
       "        text-align: right;\n",
       "    }\n",
       "</style>\n",
       "<table border=\"1\" class=\"dataframe\">\n",
       "  <thead>\n",
       "    <tr style=\"text-align: right;\">\n",
       "      <th></th>\n",
       "      <th>0</th>\n",
       "      <th>1</th>\n",
       "      <th>2</th>\n",
       "      <th>3</th>\n",
       "      <th>4</th>\n",
       "      <th>5</th>\n",
       "      <th>6</th>\n",
       "      <th>7</th>\n",
       "      <th>8</th>\n",
       "      <th>9</th>\n",
       "      <th>10</th>\n",
       "      <th>11</th>\n",
       "      <th>12</th>\n",
       "      <th>13</th>\n",
       "      <th>14</th>\n",
       "      <th>15</th>\n",
       "      <th>16</th>\n",
       "      <th>17</th>\n",
       "      <th>18</th>\n",
       "    </tr>\n",
       "  </thead>\n",
       "  <tbody>\n",
       "    <tr>\n",
       "      <th>0</th>\n",
       "      <td>-0.541042</td>\n",
       "      <td>-1.053236</td>\n",
       "      <td>-1.930678e-13</td>\n",
       "      <td>-0.600677</td>\n",
       "      <td>-1.081936</td>\n",
       "      <td>-0.514831</td>\n",
       "      <td>-0.495979</td>\n",
       "      <td>-0.882452</td>\n",
       "      <td>-1.869616e-13</td>\n",
       "      <td>-0.623728</td>\n",
       "      <td>-0.941961</td>\n",
       "      <td>-0.513990</td>\n",
       "      <td>-0.538653</td>\n",
       "      <td>-0.983503</td>\n",
       "      <td>-0.518532</td>\n",
       "      <td>-0.197541</td>\n",
       "      <td>-1.184868</td>\n",
       "      <td>-0.717414</td>\n",
       "      <td>4.227729e-13</td>\n",
       "    </tr>\n",
       "    <tr>\n",
       "      <th>1</th>\n",
       "      <td>-0.541042</td>\n",
       "      <td>1.878846</td>\n",
       "      <td>-1.273981e-13</td>\n",
       "      <td>-0.600677</td>\n",
       "      <td>1.278273</td>\n",
       "      <td>-0.514100</td>\n",
       "      <td>1.767568</td>\n",
       "      <td>1.333108</td>\n",
       "      <td>-1.860734e-13</td>\n",
       "      <td>-0.623728</td>\n",
       "      <td>0.626139</td>\n",
       "      <td>-0.513574</td>\n",
       "      <td>1.257450</td>\n",
       "      <td>0.956526</td>\n",
       "      <td>-0.517123</td>\n",
       "      <td>0.506135</td>\n",
       "      <td>1.663864</td>\n",
       "      <td>1.212546</td>\n",
       "      <td>4.263256e-13</td>\n",
       "    </tr>\n",
       "    <tr>\n",
       "      <th>2</th>\n",
       "      <td>0.914194</td>\n",
       "      <td>-0.377609</td>\n",
       "      <td>-6.183942e-14</td>\n",
       "      <td>1.185880</td>\n",
       "      <td>0.003999</td>\n",
       "      <td>0.577272</td>\n",
       "      <td>-0.420281</td>\n",
       "      <td>-0.076170</td>\n",
       "      <td>-1.852962e-13</td>\n",
       "      <td>1.262003</td>\n",
       "      <td>0.270707</td>\n",
       "      <td>0.646762</td>\n",
       "      <td>-0.409884</td>\n",
       "      <td>0.200604</td>\n",
       "      <td>0.557731</td>\n",
       "      <td>-0.193578</td>\n",
       "      <td>-0.382919</td>\n",
       "      <td>-0.073011</td>\n",
       "      <td>4.298784e-13</td>\n",
       "    </tr>\n",
       "    <tr>\n",
       "      <th>3</th>\n",
       "      <td>-0.541042</td>\n",
       "      <td>-0.316858</td>\n",
       "      <td>3.552714e-15</td>\n",
       "      <td>-0.600677</td>\n",
       "      <td>-0.547070</td>\n",
       "      <td>-0.512641</td>\n",
       "      <td>-0.408462</td>\n",
       "      <td>-0.025478</td>\n",
       "      <td>-1.845191e-13</td>\n",
       "      <td>-0.623728</td>\n",
       "      <td>-0.641979</td>\n",
       "      <td>-0.512742</td>\n",
       "      <td>-0.468091</td>\n",
       "      <td>-0.233355</td>\n",
       "      <td>-0.514305</td>\n",
       "      <td>-0.192686</td>\n",
       "      <td>-0.298870</td>\n",
       "      <td>-0.030280</td>\n",
       "      <td>4.333200e-13</td>\n",
       "    </tr>\n",
       "    <tr>\n",
       "      <th>4</th>\n",
       "      <td>-0.541042</td>\n",
       "      <td>-0.023812</td>\n",
       "      <td>-1.273981e-13</td>\n",
       "      <td>-0.600677</td>\n",
       "      <td>-0.326710</td>\n",
       "      <td>-0.514100</td>\n",
       "      <td>-0.335893</td>\n",
       "      <td>0.193551</td>\n",
       "      <td>-1.860734e-13</td>\n",
       "      <td>-0.623728</td>\n",
       "      <td>-0.511800</td>\n",
       "      <td>-0.513574</td>\n",
       "      <td>-0.409645</td>\n",
       "      <td>-0.041577</td>\n",
       "      <td>-0.517123</td>\n",
       "      <td>-0.186034</td>\n",
       "      <td>0.091814</td>\n",
       "      <td>0.155342</td>\n",
       "      <td>4.263256e-13</td>\n",
       "    </tr>\n",
       "  </tbody>\n",
       "</table>\n",
       "</div>"
      ],
      "text/plain": [
       "         0         1             2         3         4         5         6   \\\n",
       "0 -0.541042 -1.053236 -1.930678e-13 -0.600677 -1.081936 -0.514831 -0.495979   \n",
       "1 -0.541042  1.878846 -1.273981e-13 -0.600677  1.278273 -0.514100  1.767568   \n",
       "2  0.914194 -0.377609 -6.183942e-14  1.185880  0.003999  0.577272 -0.420281   \n",
       "3 -0.541042 -0.316858  3.552714e-15 -0.600677 -0.547070 -0.512641 -0.408462   \n",
       "4 -0.541042 -0.023812 -1.273981e-13 -0.600677 -0.326710 -0.514100 -0.335893   \n",
       "\n",
       "         7             8         9         10        11        12        13  \\\n",
       "0 -0.882452 -1.869616e-13 -0.623728 -0.941961 -0.513990 -0.538653 -0.983503   \n",
       "1  1.333108 -1.860734e-13 -0.623728  0.626139 -0.513574  1.257450  0.956526   \n",
       "2 -0.076170 -1.852962e-13  1.262003  0.270707  0.646762 -0.409884  0.200604   \n",
       "3 -0.025478 -1.845191e-13 -0.623728 -0.641979 -0.512742 -0.468091 -0.233355   \n",
       "4  0.193551 -1.860734e-13 -0.623728 -0.511800 -0.513574 -0.409645 -0.041577   \n",
       "\n",
       "         14        15        16        17            18  \n",
       "0 -0.518532 -0.197541 -1.184868 -0.717414  4.227729e-13  \n",
       "1 -0.517123  0.506135  1.663864  1.212546  4.263256e-13  \n",
       "2  0.557731 -0.193578 -0.382919 -0.073011  4.298784e-13  \n",
       "3 -0.514305 -0.192686 -0.298870 -0.030280  4.333200e-13  \n",
       "4 -0.517123 -0.186034  0.091814  0.155342  4.263256e-13  "
      ]
     },
     "execution_count": 57,
     "metadata": {},
     "output_type": "execute_result"
    }
   ],
   "source": [
    "df_pow.head()"
   ]
  },
  {
   "cell_type": "code",
   "execution_count": 58,
   "metadata": {},
   "outputs": [
    {
     "data": {
      "text/html": [
       "<div>\n",
       "<style scoped>\n",
       "    .dataframe tbody tr th:only-of-type {\n",
       "        vertical-align: middle;\n",
       "    }\n",
       "\n",
       "    .dataframe tbody tr th {\n",
       "        vertical-align: top;\n",
       "    }\n",
       "\n",
       "    .dataframe thead th {\n",
       "        text-align: right;\n",
       "    }\n",
       "</style>\n",
       "<table border=\"1\" class=\"dataframe\">\n",
       "  <thead>\n",
       "    <tr style=\"text-align: right;\">\n",
       "      <th></th>\n",
       "      <th>fare_amount</th>\n",
       "      <th>passenger_count</th>\n",
       "      <th>year</th>\n",
       "      <th>month</th>\n",
       "      <th>day</th>\n",
       "      <th>hour</th>\n",
       "      <th>distance</th>\n",
       "    </tr>\n",
       "  </thead>\n",
       "  <tbody>\n",
       "    <tr>\n",
       "      <th>0</th>\n",
       "      <td>4.5</td>\n",
       "      <td>1.0</td>\n",
       "      <td>2009</td>\n",
       "      <td>6</td>\n",
       "      <td>15</td>\n",
       "      <td>17</td>\n",
       "      <td>0.006340</td>\n",
       "    </tr>\n",
       "    <tr>\n",
       "      <th>1</th>\n",
       "      <td>16.9</td>\n",
       "      <td>1.0</td>\n",
       "      <td>2010</td>\n",
       "      <td>1</td>\n",
       "      <td>5</td>\n",
       "      <td>16</td>\n",
       "      <td>0.107481</td>\n",
       "    </tr>\n",
       "    <tr>\n",
       "      <th>2</th>\n",
       "      <td>5.7</td>\n",
       "      <td>2.0</td>\n",
       "      <td>2011</td>\n",
       "      <td>8</td>\n",
       "      <td>18</td>\n",
       "      <td>0</td>\n",
       "      <td>0.019212</td>\n",
       "    </tr>\n",
       "    <tr>\n",
       "      <th>3</th>\n",
       "      <td>7.7</td>\n",
       "      <td>1.0</td>\n",
       "      <td>2012</td>\n",
       "      <td>4</td>\n",
       "      <td>21</td>\n",
       "      <td>4</td>\n",
       "      <td>0.020512</td>\n",
       "    </tr>\n",
       "    <tr>\n",
       "      <th>4</th>\n",
       "      <td>5.3</td>\n",
       "      <td>1.0</td>\n",
       "      <td>2010</td>\n",
       "      <td>3</td>\n",
       "      <td>9</td>\n",
       "      <td>7</td>\n",
       "      <td>0.027194</td>\n",
       "    </tr>\n",
       "  </tbody>\n",
       "</table>\n",
       "</div>"
      ],
      "text/plain": [
       "   fare_amount  passenger_count  year  month  day  hour  distance\n",
       "0          4.5              1.0  2009      6   15    17  0.006340\n",
       "1         16.9              1.0  2010      1    5    16  0.107481\n",
       "2          5.7              2.0  2011      8   18     0  0.019212\n",
       "3          7.7              1.0  2012      4   21     4  0.020512\n",
       "4          5.3              1.0  2010      3    9     7  0.027194"
      ]
     },
     "execution_count": 58,
     "metadata": {},
     "output_type": "execute_result"
    }
   ],
   "source": [
    "df.head()"
   ]
  },
  {
   "cell_type": "code",
   "execution_count": 59,
   "metadata": {},
   "outputs": [
    {
     "data": {
      "text/html": [
       "<div>\n",
       "<style scoped>\n",
       "    .dataframe tbody tr th:only-of-type {\n",
       "        vertical-align: middle;\n",
       "    }\n",
       "\n",
       "    .dataframe tbody tr th {\n",
       "        vertical-align: top;\n",
       "    }\n",
       "\n",
       "    .dataframe thead th {\n",
       "        text-align: right;\n",
       "    }\n",
       "</style>\n",
       "<table border=\"1\" class=\"dataframe\">\n",
       "  <thead>\n",
       "    <tr style=\"text-align: right;\">\n",
       "      <th></th>\n",
       "      <th>fare_amount</th>\n",
       "      <th>month</th>\n",
       "      <th>day</th>\n",
       "      <th>hour</th>\n",
       "      <th>0</th>\n",
       "      <th>1</th>\n",
       "      <th>2</th>\n",
       "      <th>3</th>\n",
       "      <th>4</th>\n",
       "      <th>5</th>\n",
       "      <th>...</th>\n",
       "      <th>9</th>\n",
       "      <th>10</th>\n",
       "      <th>11</th>\n",
       "      <th>12</th>\n",
       "      <th>13</th>\n",
       "      <th>14</th>\n",
       "      <th>15</th>\n",
       "      <th>16</th>\n",
       "      <th>17</th>\n",
       "      <th>18</th>\n",
       "    </tr>\n",
       "  </thead>\n",
       "  <tbody>\n",
       "    <tr>\n",
       "      <th>0</th>\n",
       "      <td>4.5</td>\n",
       "      <td>6</td>\n",
       "      <td>15</td>\n",
       "      <td>17</td>\n",
       "      <td>-0.541042</td>\n",
       "      <td>-1.053236</td>\n",
       "      <td>-1.930678e-13</td>\n",
       "      <td>-0.600677</td>\n",
       "      <td>-1.081936</td>\n",
       "      <td>-0.514831</td>\n",
       "      <td>...</td>\n",
       "      <td>-0.623728</td>\n",
       "      <td>-0.941961</td>\n",
       "      <td>-0.513990</td>\n",
       "      <td>-0.538653</td>\n",
       "      <td>-0.983503</td>\n",
       "      <td>-0.518532</td>\n",
       "      <td>-0.197541</td>\n",
       "      <td>-1.184868</td>\n",
       "      <td>-0.717414</td>\n",
       "      <td>4.227729e-13</td>\n",
       "    </tr>\n",
       "    <tr>\n",
       "      <th>1</th>\n",
       "      <td>16.9</td>\n",
       "      <td>1</td>\n",
       "      <td>5</td>\n",
       "      <td>16</td>\n",
       "      <td>-0.541042</td>\n",
       "      <td>1.878846</td>\n",
       "      <td>-1.273981e-13</td>\n",
       "      <td>-0.600677</td>\n",
       "      <td>1.278273</td>\n",
       "      <td>-0.514100</td>\n",
       "      <td>...</td>\n",
       "      <td>-0.623728</td>\n",
       "      <td>0.626139</td>\n",
       "      <td>-0.513574</td>\n",
       "      <td>1.257450</td>\n",
       "      <td>0.956526</td>\n",
       "      <td>-0.517123</td>\n",
       "      <td>0.506135</td>\n",
       "      <td>1.663864</td>\n",
       "      <td>1.212546</td>\n",
       "      <td>4.263256e-13</td>\n",
       "    </tr>\n",
       "    <tr>\n",
       "      <th>2</th>\n",
       "      <td>5.7</td>\n",
       "      <td>8</td>\n",
       "      <td>18</td>\n",
       "      <td>0</td>\n",
       "      <td>0.914194</td>\n",
       "      <td>-0.377609</td>\n",
       "      <td>-6.183942e-14</td>\n",
       "      <td>1.185880</td>\n",
       "      <td>0.003999</td>\n",
       "      <td>0.577272</td>\n",
       "      <td>...</td>\n",
       "      <td>1.262003</td>\n",
       "      <td>0.270707</td>\n",
       "      <td>0.646762</td>\n",
       "      <td>-0.409884</td>\n",
       "      <td>0.200604</td>\n",
       "      <td>0.557731</td>\n",
       "      <td>-0.193578</td>\n",
       "      <td>-0.382919</td>\n",
       "      <td>-0.073011</td>\n",
       "      <td>4.298784e-13</td>\n",
       "    </tr>\n",
       "    <tr>\n",
       "      <th>3</th>\n",
       "      <td>7.7</td>\n",
       "      <td>4</td>\n",
       "      <td>21</td>\n",
       "      <td>4</td>\n",
       "      <td>-0.541042</td>\n",
       "      <td>-0.316858</td>\n",
       "      <td>3.552714e-15</td>\n",
       "      <td>-0.600677</td>\n",
       "      <td>-0.547070</td>\n",
       "      <td>-0.512641</td>\n",
       "      <td>...</td>\n",
       "      <td>-0.623728</td>\n",
       "      <td>-0.641979</td>\n",
       "      <td>-0.512742</td>\n",
       "      <td>-0.468091</td>\n",
       "      <td>-0.233355</td>\n",
       "      <td>-0.514305</td>\n",
       "      <td>-0.192686</td>\n",
       "      <td>-0.298870</td>\n",
       "      <td>-0.030280</td>\n",
       "      <td>4.333200e-13</td>\n",
       "    </tr>\n",
       "    <tr>\n",
       "      <th>4</th>\n",
       "      <td>5.3</td>\n",
       "      <td>3</td>\n",
       "      <td>9</td>\n",
       "      <td>7</td>\n",
       "      <td>-0.541042</td>\n",
       "      <td>-0.023812</td>\n",
       "      <td>-1.273981e-13</td>\n",
       "      <td>-0.600677</td>\n",
       "      <td>-0.326710</td>\n",
       "      <td>-0.514100</td>\n",
       "      <td>...</td>\n",
       "      <td>-0.623728</td>\n",
       "      <td>-0.511800</td>\n",
       "      <td>-0.513574</td>\n",
       "      <td>-0.409645</td>\n",
       "      <td>-0.041577</td>\n",
       "      <td>-0.517123</td>\n",
       "      <td>-0.186034</td>\n",
       "      <td>0.091814</td>\n",
       "      <td>0.155342</td>\n",
       "      <td>4.263256e-13</td>\n",
       "    </tr>\n",
       "  </tbody>\n",
       "</table>\n",
       "<p>5 rows × 23 columns</p>\n",
       "</div>"
      ],
      "text/plain": [
       "   fare_amount  month  day  hour         0         1             2         3  \\\n",
       "0          4.5      6   15    17 -0.541042 -1.053236 -1.930678e-13 -0.600677   \n",
       "1         16.9      1    5    16 -0.541042  1.878846 -1.273981e-13 -0.600677   \n",
       "2          5.7      8   18     0  0.914194 -0.377609 -6.183942e-14  1.185880   \n",
       "3          7.7      4   21     4 -0.541042 -0.316858  3.552714e-15 -0.600677   \n",
       "4          5.3      3    9     7 -0.541042 -0.023812 -1.273981e-13 -0.600677   \n",
       "\n",
       "          4         5  ...         9        10        11        12        13  \\\n",
       "0 -1.081936 -0.514831  ... -0.623728 -0.941961 -0.513990 -0.538653 -0.983503   \n",
       "1  1.278273 -0.514100  ... -0.623728  0.626139 -0.513574  1.257450  0.956526   \n",
       "2  0.003999  0.577272  ...  1.262003  0.270707  0.646762 -0.409884  0.200604   \n",
       "3 -0.547070 -0.512641  ... -0.623728 -0.641979 -0.512742 -0.468091 -0.233355   \n",
       "4 -0.326710 -0.514100  ... -0.623728 -0.511800 -0.513574 -0.409645 -0.041577   \n",
       "\n",
       "         14        15        16        17            18  \n",
       "0 -0.518532 -0.197541 -1.184868 -0.717414  4.227729e-13  \n",
       "1 -0.517123  0.506135  1.663864  1.212546  4.263256e-13  \n",
       "2  0.557731 -0.193578 -0.382919 -0.073011  4.298784e-13  \n",
       "3 -0.514305 -0.192686 -0.298870 -0.030280  4.333200e-13  \n",
       "4 -0.517123 -0.186034  0.091814  0.155342  4.263256e-13  \n",
       "\n",
       "[5 rows x 23 columns]"
      ]
     },
     "execution_count": 59,
     "metadata": {},
     "output_type": "execute_result"
    }
   ],
   "source": [
    "df_1=pd.concat([df.drop(columns=['passenger_count','distance','year']),df_pow], axis=1)\n",
    "df_1.head()"
   ]
  },
  {
   "cell_type": "code",
   "execution_count": 60,
   "metadata": {},
   "outputs": [],
   "source": [
    "x_1 = df_1.drop(columns='fare_amount')\n",
    "y_1=df_1['fare_amount']"
   ]
  },
  {
   "cell_type": "code",
   "execution_count": 61,
   "metadata": {},
   "outputs": [],
   "source": [
    "x_train_1, x_test_1, y_train_1,y_test_1=train_test_split(x_1,y_1,train_size=.85,random_state=42)"
   ]
  },
  {
   "cell_type": "code",
   "execution_count": 62,
   "metadata": {},
   "outputs": [
    {
     "data": {
      "text/html": [
       "<div>\n",
       "<style scoped>\n",
       "    .dataframe tbody tr th:only-of-type {\n",
       "        vertical-align: middle;\n",
       "    }\n",
       "\n",
       "    .dataframe tbody tr th {\n",
       "        vertical-align: top;\n",
       "    }\n",
       "\n",
       "    .dataframe thead th {\n",
       "        text-align: right;\n",
       "    }\n",
       "</style>\n",
       "<table border=\"1\" class=\"dataframe\">\n",
       "  <thead>\n",
       "    <tr style=\"text-align: right;\">\n",
       "      <th></th>\n",
       "      <th>TrainingLinReg 2</th>\n",
       "      <th>TestLinReg 2</th>\n",
       "    </tr>\n",
       "  </thead>\n",
       "  <tbody>\n",
       "    <tr>\n",
       "      <th>R2</th>\n",
       "      <td>0.498710</td>\n",
       "      <td>0.513405</td>\n",
       "    </tr>\n",
       "    <tr>\n",
       "      <th>MAE</th>\n",
       "      <td>3.578136</td>\n",
       "      <td>3.437472</td>\n",
       "    </tr>\n",
       "    <tr>\n",
       "      <th>MSE</th>\n",
       "      <td>46.280590</td>\n",
       "      <td>41.335143</td>\n",
       "    </tr>\n",
       "    <tr>\n",
       "      <th>RMSE</th>\n",
       "      <td>6.802984</td>\n",
       "      <td>6.429241</td>\n",
       "    </tr>\n",
       "  </tbody>\n",
       "</table>\n",
       "</div>"
      ],
      "text/plain": [
       "      TrainingLinReg 2  TestLinReg 2\n",
       "R2            0.498710      0.513405\n",
       "MAE           3.578136      3.437472\n",
       "MSE          46.280590     41.335143\n",
       "RMSE          6.802984      6.429241"
      ]
     },
     "execution_count": 62,
     "metadata": {},
     "output_type": "execute_result"
    }
   ],
   "source": [
    "model,df_LinReg2= Eva_Matrix_Base(LinearRegression(fit_intercept=False),x_train_1,x_test_1,y_train_1,y_test_1,'LinReg 2')\n",
    "df_LinReg2"
   ]
  },
  {
   "cell_type": "markdown",
   "metadata": {},
   "source": [
    "## ML Improvement 2\n",
    "- Using Feature Engineering + Others Algorithm"
   ]
  },
  {
   "cell_type": "code",
   "execution_count": 63,
   "metadata": {},
   "outputs": [
    {
     "data": {
      "text/html": [
       "<div>\n",
       "<style scoped>\n",
       "    .dataframe tbody tr th:only-of-type {\n",
       "        vertical-align: middle;\n",
       "    }\n",
       "\n",
       "    .dataframe tbody tr th {\n",
       "        vertical-align: top;\n",
       "    }\n",
       "\n",
       "    .dataframe thead th {\n",
       "        text-align: right;\n",
       "    }\n",
       "</style>\n",
       "<table border=\"1\" class=\"dataframe\">\n",
       "  <thead>\n",
       "    <tr style=\"text-align: right;\">\n",
       "      <th></th>\n",
       "      <th>TrainingRidge</th>\n",
       "      <th>TestRidge</th>\n",
       "    </tr>\n",
       "  </thead>\n",
       "  <tbody>\n",
       "    <tr>\n",
       "      <th>R2</th>\n",
       "      <td>0.486179</td>\n",
       "      <td>0.498328</td>\n",
       "    </tr>\n",
       "    <tr>\n",
       "      <th>MAE</th>\n",
       "      <td>3.639472</td>\n",
       "      <td>3.516353</td>\n",
       "    </tr>\n",
       "    <tr>\n",
       "      <th>MSE</th>\n",
       "      <td>47.437522</td>\n",
       "      <td>42.615923</td>\n",
       "    </tr>\n",
       "    <tr>\n",
       "      <th>RMSE</th>\n",
       "      <td>6.887490</td>\n",
       "      <td>6.528087</td>\n",
       "    </tr>\n",
       "  </tbody>\n",
       "</table>\n",
       "</div>"
      ],
      "text/plain": [
       "      TrainingRidge  TestRidge\n",
       "R2         0.486179   0.498328\n",
       "MAE        3.639472   3.516353\n",
       "MSE       47.437522  42.615923\n",
       "RMSE       6.887490   6.528087"
      ]
     },
     "execution_count": 63,
     "metadata": {},
     "output_type": "execute_result"
    }
   ],
   "source": [
    "model_R, df_Ridge2=Eva_Matrix_Base(Ridge(),x_train_1,x_test_1,y_train_1,y_test_1,'Ridge')\n",
    "df_Ridge2"
   ]
  },
  {
   "cell_type": "code",
   "execution_count": 64,
   "metadata": {},
   "outputs": [
    {
     "data": {
      "text/html": [
       "<div>\n",
       "<style scoped>\n",
       "    .dataframe tbody tr th:only-of-type {\n",
       "        vertical-align: middle;\n",
       "    }\n",
       "\n",
       "    .dataframe tbody tr th {\n",
       "        vertical-align: top;\n",
       "    }\n",
       "\n",
       "    .dataframe thead th {\n",
       "        text-align: right;\n",
       "    }\n",
       "</style>\n",
       "<table border=\"1\" class=\"dataframe\">\n",
       "  <thead>\n",
       "    <tr style=\"text-align: right;\">\n",
       "      <th></th>\n",
       "      <th>TrainingLasso</th>\n",
       "      <th>TestLasso</th>\n",
       "    </tr>\n",
       "  </thead>\n",
       "  <tbody>\n",
       "    <tr>\n",
       "      <th>R2</th>\n",
       "      <td>0.418618</td>\n",
       "      <td>0.431352</td>\n",
       "    </tr>\n",
       "    <tr>\n",
       "      <th>MAE</th>\n",
       "      <td>3.903154</td>\n",
       "      <td>3.741667</td>\n",
       "    </tr>\n",
       "    <tr>\n",
       "      <th>MSE</th>\n",
       "      <td>53.674974</td>\n",
       "      <td>48.305417</td>\n",
       "    </tr>\n",
       "    <tr>\n",
       "      <th>RMSE</th>\n",
       "      <td>7.326321</td>\n",
       "      <td>6.950210</td>\n",
       "    </tr>\n",
       "  </tbody>\n",
       "</table>\n",
       "</div>"
      ],
      "text/plain": [
       "      TrainingLasso  TestLasso\n",
       "R2         0.418618   0.431352\n",
       "MAE        3.903154   3.741667\n",
       "MSE       53.674974  48.305417\n",
       "RMSE       7.326321   6.950210"
      ]
     },
     "execution_count": 64,
     "metadata": {},
     "output_type": "execute_result"
    }
   ],
   "source": [
    "model_L, df_Lasso2=Eva_Matrix_Base(Lasso(),x_train_1,x_test_1,y_train_1,y_test_1,'Lasso')\n",
    "df_Lasso2"
   ]
  },
  {
   "cell_type": "code",
   "execution_count": 65,
   "metadata": {},
   "outputs": [
    {
     "data": {
      "text/html": [
       "<div>\n",
       "<style scoped>\n",
       "    .dataframe tbody tr th:only-of-type {\n",
       "        vertical-align: middle;\n",
       "    }\n",
       "\n",
       "    .dataframe tbody tr th {\n",
       "        vertical-align: top;\n",
       "    }\n",
       "\n",
       "    .dataframe thead th {\n",
       "        text-align: right;\n",
       "    }\n",
       "</style>\n",
       "<table border=\"1\" class=\"dataframe\">\n",
       "  <thead>\n",
       "    <tr style=\"text-align: right;\">\n",
       "      <th></th>\n",
       "      <th>TrainingEnet</th>\n",
       "      <th>TestEnet</th>\n",
       "    </tr>\n",
       "  </thead>\n",
       "  <tbody>\n",
       "    <tr>\n",
       "      <th>R2</th>\n",
       "      <td>0.409752</td>\n",
       "      <td>0.418252</td>\n",
       "    </tr>\n",
       "    <tr>\n",
       "      <th>MAE</th>\n",
       "      <td>3.975754</td>\n",
       "      <td>3.823235</td>\n",
       "    </tr>\n",
       "    <tr>\n",
       "      <th>MSE</th>\n",
       "      <td>54.493488</td>\n",
       "      <td>49.418263</td>\n",
       "    </tr>\n",
       "    <tr>\n",
       "      <th>RMSE</th>\n",
       "      <td>7.381970</td>\n",
       "      <td>7.029812</td>\n",
       "    </tr>\n",
       "  </tbody>\n",
       "</table>\n",
       "</div>"
      ],
      "text/plain": [
       "      TrainingEnet   TestEnet\n",
       "R2        0.409752   0.418252\n",
       "MAE       3.975754   3.823235\n",
       "MSE      54.493488  49.418263\n",
       "RMSE      7.381970   7.029812"
      ]
     },
     "execution_count": 65,
     "metadata": {},
     "output_type": "execute_result"
    }
   ],
   "source": [
    "model_L, df_Enet2=Eva_Matrix_Base(ElasticNet(),x_train_1,x_test_1,y_train_1,y_test_1,'Enet')\n",
    "df_Enet2"
   ]
  },
  {
   "cell_type": "code",
   "execution_count": 66,
   "metadata": {},
   "outputs": [
    {
     "data": {
      "text/html": [
       "<div>\n",
       "<style scoped>\n",
       "    .dataframe tbody tr th:only-of-type {\n",
       "        vertical-align: middle;\n",
       "    }\n",
       "\n",
       "    .dataframe tbody tr th {\n",
       "        vertical-align: top;\n",
       "    }\n",
       "\n",
       "    .dataframe thead th {\n",
       "        text-align: right;\n",
       "    }\n",
       "</style>\n",
       "<table border=\"1\" class=\"dataframe\">\n",
       "  <thead>\n",
       "    <tr style=\"text-align: right;\">\n",
       "      <th></th>\n",
       "      <th>R2</th>\n",
       "      <th>MAE</th>\n",
       "      <th>MSE</th>\n",
       "      <th>RMSE</th>\n",
       "    </tr>\n",
       "  </thead>\n",
       "  <tbody>\n",
       "    <tr>\n",
       "      <th>TrainingLinReg 2</th>\n",
       "      <td>0.498710</td>\n",
       "      <td>3.578136</td>\n",
       "      <td>46.280590</td>\n",
       "      <td>6.802984</td>\n",
       "    </tr>\n",
       "    <tr>\n",
       "      <th>TestLinReg 2</th>\n",
       "      <td>0.513405</td>\n",
       "      <td>3.437472</td>\n",
       "      <td>41.335143</td>\n",
       "      <td>6.429241</td>\n",
       "    </tr>\n",
       "    <tr>\n",
       "      <th>TrainingRidge</th>\n",
       "      <td>0.486179</td>\n",
       "      <td>3.639472</td>\n",
       "      <td>47.437522</td>\n",
       "      <td>6.887490</td>\n",
       "    </tr>\n",
       "    <tr>\n",
       "      <th>TestRidge</th>\n",
       "      <td>0.498328</td>\n",
       "      <td>3.516353</td>\n",
       "      <td>42.615923</td>\n",
       "      <td>6.528087</td>\n",
       "    </tr>\n",
       "    <tr>\n",
       "      <th>TrainingLasso</th>\n",
       "      <td>0.418618</td>\n",
       "      <td>3.903154</td>\n",
       "      <td>53.674974</td>\n",
       "      <td>7.326321</td>\n",
       "    </tr>\n",
       "    <tr>\n",
       "      <th>TestLasso</th>\n",
       "      <td>0.431352</td>\n",
       "      <td>3.741667</td>\n",
       "      <td>48.305417</td>\n",
       "      <td>6.950210</td>\n",
       "    </tr>\n",
       "    <tr>\n",
       "      <th>TrainingEnet</th>\n",
       "      <td>0.409752</td>\n",
       "      <td>3.975754</td>\n",
       "      <td>54.493488</td>\n",
       "      <td>7.381970</td>\n",
       "    </tr>\n",
       "    <tr>\n",
       "      <th>TestEnet</th>\n",
       "      <td>0.418252</td>\n",
       "      <td>3.823235</td>\n",
       "      <td>49.418263</td>\n",
       "      <td>7.029812</td>\n",
       "    </tr>\n",
       "  </tbody>\n",
       "</table>\n",
       "</div>"
      ],
      "text/plain": [
       "                        R2       MAE        MSE      RMSE\n",
       "TrainingLinReg 2  0.498710  3.578136  46.280590  6.802984\n",
       "TestLinReg 2      0.513405  3.437472  41.335143  6.429241\n",
       "TrainingRidge     0.486179  3.639472  47.437522  6.887490\n",
       "TestRidge         0.498328  3.516353  42.615923  6.528087\n",
       "TrainingLasso     0.418618  3.903154  53.674974  7.326321\n",
       "TestLasso         0.431352  3.741667  48.305417  6.950210\n",
       "TrainingEnet      0.409752  3.975754  54.493488  7.381970\n",
       "TestEnet          0.418252  3.823235  49.418263  7.029812"
      ]
     },
     "execution_count": 66,
     "metadata": {},
     "output_type": "execute_result"
    }
   ],
   "source": [
    "pd.concat([df_LinReg2,df_Ridge2,df_Lasso2,df_Enet2], axis=1).T"
   ]
  },
  {
   "cell_type": "markdown",
   "metadata": {},
   "source": [
    "## ML Improvement 3\n",
    "- Tuning (Manual Tuning)"
   ]
  },
  {
   "cell_type": "code",
   "execution_count": 67,
   "metadata": {},
   "outputs": [],
   "source": [
    "Alpha=np.arange(0,0.2,0.0001) ## Tuning awal"
   ]
  },
  {
   "cell_type": "code",
   "execution_count": 68,
   "metadata": {},
   "outputs": [],
   "source": [
    "def Manual_Tune(Alpha,x_train,x_test,y_train,y_test,Model):\n",
    "    train_r=[]\n",
    "    test_r=[]\n",
    "\n",
    "    for i in Alpha:\n",
    "        model_R=Model(alpha=i)\n",
    "        model_R.fit(x_train,y_train)\n",
    "        y_pred_tr=model_R.predict(x_train)\n",
    "        R2_train=r2_score(y_train,y_pred_tr)\n",
    "        train_r.append(R2_train)\n",
    "        y_pred_ts=model_R.predict(x_test)\n",
    "        R2_test=r2_score(y_test,y_pred_ts)\n",
    "        test_r.append(R2_test)\n",
    "    \n",
    "    return train_r, test_r\n",
    "    "
   ]
  },
  {
   "cell_type": "code",
   "execution_count": 69,
   "metadata": {},
   "outputs": [],
   "source": [
    "train_ridge, test_ridge = Manual_Tune(Alpha, x_train_1, x_test_1,y_train_1,y_test_1, Ridge)"
   ]
  },
  {
   "cell_type": "code",
   "execution_count": 70,
   "metadata": {},
   "outputs": [
    {
     "data": {
      "image/png": "[encoded data removed]",
      "text/plain": [
       "<Figure size 576x504 with 1 Axes>"
      ]
     },
     "metadata": {
      "needs_background": "light"
     },
     "output_type": "display_data"
    }
   ],
   "source": [
    "plt.figure(figsize=(8,7))\n",
    "plt.plot(Alpha,train_ridge,'r*-')\n",
    "plt.plot(Alpha,test_ridge,'b*-')\n",
    "plt.legend(['Train R2','Test R2'])\n",
    "plt.title('Manual Tuning Lasso + Polynomial')\n",
    "plt.show()"
   ]
  },
  {
   "cell_type": "code",
   "execution_count": 71,
   "metadata": {},
   "outputs": [],
   "source": [
    "train_lasso, test_lasso = Manual_Tune(Alpha, x_train_1, x_test_1,y_train_1,y_test_1, Lasso)"
   ]
  },
  {
   "cell_type": "code",
   "execution_count": 72,
   "metadata": {},
   "outputs": [
    {
     "data": {
      "image/png": "[encoded data removed]",
      "text/plain": [
       "<Figure size 576x504 with 1 Axes>"
      ]
     },
     "metadata": {
      "needs_background": "light"
     },
     "output_type": "display_data"
    }
   ],
   "source": [
    "plt.figure(figsize=(8,7))\n",
    "plt.plot(Alpha,train_lasso,'r*-')\n",
    "plt.plot(Alpha,test_lasso,'b*-')\n",
    "plt.legend(['Train R2','Test R2'])\n",
    "plt.title('Manual Tuning Lasso + Polynomial')\n",
    "plt.show()"
   ]
  },
  {
   "cell_type": "code",
   "execution_count": 73,
   "metadata": {},
   "outputs": [],
   "source": [
    "beta=np.arange(0,5,0.001)"
   ]
  },
  {
   "cell_type": "code",
   "execution_count": 74,
   "metadata": {},
   "outputs": [],
   "source": [
    "train_Enet, test_Enet = Manual_Tune(beta, x_train_1, x_test_1,y_train_1,y_test_1, ElasticNet)"
   ]
  },
  {
   "cell_type": "code",
   "execution_count": 75,
   "metadata": {},
   "outputs": [
    {
     "data": {
      "image/png": "[encoded data removed]",
      "text/plain": [
       "<Figure size 576x504 with 1 Axes>"
      ]
     },
     "metadata": {
      "needs_background": "light"
     },
     "output_type": "display_data"
    }
   ],
   "source": [
    "plt.figure(figsize=(8,7))\n",
    "plt.plot(beta,train_Enet,'r*-')\n",
    "plt.plot(beta,test_Enet,'b*-')\n",
    "plt.legend(['Train R2','Test R2'])\n",
    "plt.title('Manual Tuning Enet + Polynomial')\n",
    "plt.xlabel('Nilai Alpha')\n",
    "plt.ylabel('Nilai R2 Score')\n",
    "plt.show()"
   ]
  },
  {
   "cell_type": "code",
   "execution_count": 76,
   "metadata": {},
   "outputs": [],
   "source": [
    "### Analisa Error"
   ]
  },
  {
   "cell_type": "code",
   "execution_count": 77,
   "metadata": {},
   "outputs": [],
   "source": [
    "df_Error_T=x_train_1.copy()"
   ]
  },
  {
   "cell_type": "code",
   "execution_count": 78,
   "metadata": {},
   "outputs": [
    {
     "data": {
      "text/html": [
       "<div>\n",
       "<style scoped>\n",
       "    .dataframe tbody tr th:only-of-type {\n",
       "        vertical-align: middle;\n",
       "    }\n",
       "\n",
       "    .dataframe tbody tr th {\n",
       "        vertical-align: top;\n",
       "    }\n",
       "\n",
       "    .dataframe thead th {\n",
       "        text-align: right;\n",
       "    }\n",
       "</style>\n",
       "<table border=\"1\" class=\"dataframe\">\n",
       "  <thead>\n",
       "    <tr style=\"text-align: right;\">\n",
       "      <th></th>\n",
       "      <th>month</th>\n",
       "      <th>day</th>\n",
       "      <th>hour</th>\n",
       "      <th>0</th>\n",
       "      <th>1</th>\n",
       "      <th>2</th>\n",
       "      <th>3</th>\n",
       "      <th>4</th>\n",
       "      <th>5</th>\n",
       "      <th>6</th>\n",
       "      <th>...</th>\n",
       "      <th>9</th>\n",
       "      <th>10</th>\n",
       "      <th>11</th>\n",
       "      <th>12</th>\n",
       "      <th>13</th>\n",
       "      <th>14</th>\n",
       "      <th>15</th>\n",
       "      <th>16</th>\n",
       "      <th>17</th>\n",
       "      <th>18</th>\n",
       "    </tr>\n",
       "  </thead>\n",
       "  <tbody>\n",
       "    <tr>\n",
       "      <th>2760</th>\n",
       "      <td>11</td>\n",
       "      <td>5</td>\n",
       "      <td>0</td>\n",
       "      <td>1.486464</td>\n",
       "      <td>0.398102</td>\n",
       "      <td>1.339484e-13</td>\n",
       "      <td>1.621540</td>\n",
       "      <td>1.361174</td>\n",
       "      <td>1.290893</td>\n",
       "      <td>-0.173363</td>\n",
       "      <td>...</td>\n",
       "      <td>1.650726</td>\n",
       "      <td>1.836283</td>\n",
       "      <td>1.326778</td>\n",
       "      <td>0.219215</td>\n",
       "      <td>1.008321</td>\n",
       "      <td>1.284311</td>\n",
       "      <td>-0.165234</td>\n",
       "      <td>0.585840</td>\n",
       "      <td>0.397484</td>\n",
       "      <td>4.403145e-13</td>\n",
       "    </tr>\n",
       "    <tr>\n",
       "      <th>13436</th>\n",
       "      <td>1</td>\n",
       "      <td>8</td>\n",
       "      <td>11</td>\n",
       "      <td>-0.541042</td>\n",
       "      <td>1.402966</td>\n",
       "      <td>1.990075e-13</td>\n",
       "      <td>-0.600677</td>\n",
       "      <td>0.836347</td>\n",
       "      <td>-0.510453</td>\n",
       "      <td>0.742482</td>\n",
       "      <td>...</td>\n",
       "      <td>-0.623728</td>\n",
       "      <td>0.266931</td>\n",
       "      <td>-0.511496</td>\n",
       "      <td>0.451858</td>\n",
       "      <td>0.702968</td>\n",
       "      <td>-0.510080</td>\n",
       "      <td>0.060335</td>\n",
       "      <td>1.399278</td>\n",
       "      <td>0.931242</td>\n",
       "      <td>4.438672e-13</td>\n",
       "    </tr>\n",
       "    <tr>\n",
       "      <th>5746</th>\n",
       "      <td>10</td>\n",
       "      <td>2</td>\n",
       "      <td>10</td>\n",
       "      <td>-0.541042</td>\n",
       "      <td>-0.510040</td>\n",
       "      <td>-6.183942e-14</td>\n",
       "      <td>-0.600677</td>\n",
       "      <td>-0.689840</td>\n",
       "      <td>-0.513370</td>\n",
       "      <td>-0.442731</td>\n",
       "      <td>...</td>\n",
       "      <td>-0.623728</td>\n",
       "      <td>-0.724143</td>\n",
       "      <td>-0.513158</td>\n",
       "      <td>-0.495711</td>\n",
       "      <td>-0.380397</td>\n",
       "      <td>-0.515713</td>\n",
       "      <td>-0.195099</td>\n",
       "      <td>-0.564949</td>\n",
       "      <td>-0.170137</td>\n",
       "      <td>4.298784e-13</td>\n",
       "    </tr>\n",
       "    <tr>\n",
       "      <th>5998</th>\n",
       "      <td>12</td>\n",
       "      <td>21</td>\n",
       "      <td>22</td>\n",
       "      <td>-0.541042</td>\n",
       "      <td>1.104164</td>\n",
       "      <td>1.339484e-13</td>\n",
       "      <td>-0.600677</td>\n",
       "      <td>0.576665</td>\n",
       "      <td>-0.511182</td>\n",
       "      <td>0.353108</td>\n",
       "      <td>...</td>\n",
       "      <td>-0.623728</td>\n",
       "      <td>0.076120</td>\n",
       "      <td>-0.511911</td>\n",
       "      <td>0.142354</td>\n",
       "      <td>0.554207</td>\n",
       "      <td>-0.511488</td>\n",
       "      <td>-0.055877</td>\n",
       "      <td>1.200967</td>\n",
       "      <td>0.769368</td>\n",
       "      <td>4.403145e-13</td>\n",
       "    </tr>\n",
       "    <tr>\n",
       "      <th>6896</th>\n",
       "      <td>9</td>\n",
       "      <td>3</td>\n",
       "      <td>17</td>\n",
       "      <td>2.048708</td>\n",
       "      <td>-0.420993</td>\n",
       "      <td>1.339484e-13</td>\n",
       "      <td>1.850170</td>\n",
       "      <td>1.305313</td>\n",
       "      <td>2.646804</td>\n",
       "      <td>-0.428121</td>\n",
       "      <td>...</td>\n",
       "      <td>1.821082</td>\n",
       "      <td>2.155690</td>\n",
       "      <td>2.487433</td>\n",
       "      <td>-0.182675</td>\n",
       "      <td>0.974306</td>\n",
       "      <td>2.703028</td>\n",
       "      <td>-0.194136</td>\n",
       "      <td>-0.441866</td>\n",
       "      <td>-0.102070</td>\n",
       "      <td>4.403145e-13</td>\n",
       "    </tr>\n",
       "  </tbody>\n",
       "</table>\n",
       "<p>5 rows × 22 columns</p>\n",
       "</div>"
      ],
      "text/plain": [
       "       month  day  hour         0         1             2         3         4  \\\n",
       "2760      11    5     0  1.486464  0.398102  1.339484e-13  1.621540  1.361174   \n",
       "13436      1    8    11 -0.541042  1.402966  1.990075e-13 -0.600677  0.836347   \n",
       "5746      10    2    10 -0.541042 -0.510040 -6.183942e-14 -0.600677 -0.689840   \n",
       "5998      12   21    22 -0.541042  1.104164  1.339484e-13 -0.600677  0.576665   \n",
       "6896       9    3    17  2.048708 -0.420993  1.339484e-13  1.850170  1.305313   \n",
       "\n",
       "              5         6  ...         9        10        11        12  \\\n",
       "2760   1.290893 -0.173363  ...  1.650726  1.836283  1.326778  0.219215   \n",
       "13436 -0.510453  0.742482  ... -0.623728  0.266931 -0.511496  0.451858   \n",
       "5746  -0.513370 -0.442731  ... -0.623728 -0.724143 -0.513158 -0.495711   \n",
       "5998  -0.511182  0.353108  ... -0.623728  0.076120 -0.511911  0.142354   \n",
       "6896   2.646804 -0.428121  ...  1.821082  2.155690  2.487433 -0.182675   \n",
       "\n",
       "             13        14        15        16        17            18  \n",
       "2760   1.008321  1.284311 -0.165234  0.585840  0.397484  4.403145e-13  \n",
       "13436  0.702968 -0.510080  0.060335  1.399278  0.931242  4.438672e-13  \n",
       "5746  -0.380397 -0.515713 -0.195099 -0.564949 -0.170137  4.298784e-13  \n",
       "5998   0.554207 -0.511488 -0.055877  1.200967  0.769368  4.403145e-13  \n",
       "6896   0.974306  2.703028 -0.194136 -0.441866 -0.102070  4.403145e-13  \n",
       "\n",
       "[5 rows x 22 columns]"
      ]
     },
     "execution_count": 78,
     "metadata": {},
     "output_type": "execute_result"
    }
   ],
   "source": [
    "df_Error_T.head()"
   ]
  },
  {
   "cell_type": "code",
   "execution_count": 79,
   "metadata": {},
   "outputs": [],
   "source": [
    "df_Error_T['target']=y_train_1"
   ]
  },
  {
   "cell_type": "code",
   "execution_count": 80,
   "metadata": {},
   "outputs": [
    {
     "data": {
      "text/html": [
       "<div>\n",
       "<style scoped>\n",
       "    .dataframe tbody tr th:only-of-type {\n",
       "        vertical-align: middle;\n",
       "    }\n",
       "\n",
       "    .dataframe tbody tr th {\n",
       "        vertical-align: top;\n",
       "    }\n",
       "\n",
       "    .dataframe thead th {\n",
       "        text-align: right;\n",
       "    }\n",
       "</style>\n",
       "<table border=\"1\" class=\"dataframe\">\n",
       "  <thead>\n",
       "    <tr style=\"text-align: right;\">\n",
       "      <th></th>\n",
       "      <th>month</th>\n",
       "      <th>day</th>\n",
       "      <th>hour</th>\n",
       "      <th>0</th>\n",
       "      <th>1</th>\n",
       "      <th>2</th>\n",
       "      <th>3</th>\n",
       "      <th>4</th>\n",
       "      <th>5</th>\n",
       "      <th>6</th>\n",
       "      <th>...</th>\n",
       "      <th>10</th>\n",
       "      <th>11</th>\n",
       "      <th>12</th>\n",
       "      <th>13</th>\n",
       "      <th>14</th>\n",
       "      <th>15</th>\n",
       "      <th>16</th>\n",
       "      <th>17</th>\n",
       "      <th>18</th>\n",
       "      <th>target</th>\n",
       "    </tr>\n",
       "  </thead>\n",
       "  <tbody>\n",
       "    <tr>\n",
       "      <th>2760</th>\n",
       "      <td>11</td>\n",
       "      <td>5</td>\n",
       "      <td>0</td>\n",
       "      <td>1.486464</td>\n",
       "      <td>0.398102</td>\n",
       "      <td>1.339484e-13</td>\n",
       "      <td>1.621540</td>\n",
       "      <td>1.361174</td>\n",
       "      <td>1.290893</td>\n",
       "      <td>-0.173363</td>\n",
       "      <td>...</td>\n",
       "      <td>1.836283</td>\n",
       "      <td>1.326778</td>\n",
       "      <td>0.219215</td>\n",
       "      <td>1.008321</td>\n",
       "      <td>1.284311</td>\n",
       "      <td>-0.165234</td>\n",
       "      <td>0.585840</td>\n",
       "      <td>0.397484</td>\n",
       "      <td>4.403145e-13</td>\n",
       "      <td>11.50</td>\n",
       "    </tr>\n",
       "    <tr>\n",
       "      <th>13436</th>\n",
       "      <td>1</td>\n",
       "      <td>8</td>\n",
       "      <td>11</td>\n",
       "      <td>-0.541042</td>\n",
       "      <td>1.402966</td>\n",
       "      <td>1.990075e-13</td>\n",
       "      <td>-0.600677</td>\n",
       "      <td>0.836347</td>\n",
       "      <td>-0.510453</td>\n",
       "      <td>0.742482</td>\n",
       "      <td>...</td>\n",
       "      <td>0.266931</td>\n",
       "      <td>-0.511496</td>\n",
       "      <td>0.451858</td>\n",
       "      <td>0.702968</td>\n",
       "      <td>-0.510080</td>\n",
       "      <td>0.060335</td>\n",
       "      <td>1.399278</td>\n",
       "      <td>0.931242</td>\n",
       "      <td>4.438672e-13</td>\n",
       "      <td>30.33</td>\n",
       "    </tr>\n",
       "    <tr>\n",
       "      <th>5746</th>\n",
       "      <td>10</td>\n",
       "      <td>2</td>\n",
       "      <td>10</td>\n",
       "      <td>-0.541042</td>\n",
       "      <td>-0.510040</td>\n",
       "      <td>-6.183942e-14</td>\n",
       "      <td>-0.600677</td>\n",
       "      <td>-0.689840</td>\n",
       "      <td>-0.513370</td>\n",
       "      <td>-0.442731</td>\n",
       "      <td>...</td>\n",
       "      <td>-0.724143</td>\n",
       "      <td>-0.513158</td>\n",
       "      <td>-0.495711</td>\n",
       "      <td>-0.380397</td>\n",
       "      <td>-0.515713</td>\n",
       "      <td>-0.195099</td>\n",
       "      <td>-0.564949</td>\n",
       "      <td>-0.170137</td>\n",
       "      <td>4.298784e-13</td>\n",
       "      <td>4.90</td>\n",
       "    </tr>\n",
       "    <tr>\n",
       "      <th>5998</th>\n",
       "      <td>12</td>\n",
       "      <td>21</td>\n",
       "      <td>22</td>\n",
       "      <td>-0.541042</td>\n",
       "      <td>1.104164</td>\n",
       "      <td>1.339484e-13</td>\n",
       "      <td>-0.600677</td>\n",
       "      <td>0.576665</td>\n",
       "      <td>-0.511182</td>\n",
       "      <td>0.353108</td>\n",
       "      <td>...</td>\n",
       "      <td>0.076120</td>\n",
       "      <td>-0.511911</td>\n",
       "      <td>0.142354</td>\n",
       "      <td>0.554207</td>\n",
       "      <td>-0.511488</td>\n",
       "      <td>-0.055877</td>\n",
       "      <td>1.200967</td>\n",
       "      <td>0.769368</td>\n",
       "      <td>4.403145e-13</td>\n",
       "      <td>16.00</td>\n",
       "    </tr>\n",
       "    <tr>\n",
       "      <th>6896</th>\n",
       "      <td>9</td>\n",
       "      <td>3</td>\n",
       "      <td>17</td>\n",
       "      <td>2.048708</td>\n",
       "      <td>-0.420993</td>\n",
       "      <td>1.339484e-13</td>\n",
       "      <td>1.850170</td>\n",
       "      <td>1.305313</td>\n",
       "      <td>2.646804</td>\n",
       "      <td>-0.428121</td>\n",
       "      <td>...</td>\n",
       "      <td>2.155690</td>\n",
       "      <td>2.487433</td>\n",
       "      <td>-0.182675</td>\n",
       "      <td>0.974306</td>\n",
       "      <td>2.703028</td>\n",
       "      <td>-0.194136</td>\n",
       "      <td>-0.441866</td>\n",
       "      <td>-0.102070</td>\n",
       "      <td>4.403145e-13</td>\n",
       "      <td>7.00</td>\n",
       "    </tr>\n",
       "  </tbody>\n",
       "</table>\n",
       "<p>5 rows × 23 columns</p>\n",
       "</div>"
      ],
      "text/plain": [
       "       month  day  hour         0         1             2         3         4  \\\n",
       "2760      11    5     0  1.486464  0.398102  1.339484e-13  1.621540  1.361174   \n",
       "13436      1    8    11 -0.541042  1.402966  1.990075e-13 -0.600677  0.836347   \n",
       "5746      10    2    10 -0.541042 -0.510040 -6.183942e-14 -0.600677 -0.689840   \n",
       "5998      12   21    22 -0.541042  1.104164  1.339484e-13 -0.600677  0.576665   \n",
       "6896       9    3    17  2.048708 -0.420993  1.339484e-13  1.850170  1.305313   \n",
       "\n",
       "              5         6  ...        10        11        12        13  \\\n",
       "2760   1.290893 -0.173363  ...  1.836283  1.326778  0.219215  1.008321   \n",
       "13436 -0.510453  0.742482  ...  0.266931 -0.511496  0.451858  0.702968   \n",
       "5746  -0.513370 -0.442731  ... -0.724143 -0.513158 -0.495711 -0.380397   \n",
       "5998  -0.511182  0.353108  ...  0.076120 -0.511911  0.142354  0.554207   \n",
       "6896   2.646804 -0.428121  ...  2.155690  2.487433 -0.182675  0.974306   \n",
       "\n",
       "             14        15        16        17            18  target  \n",
       "2760   1.284311 -0.165234  0.585840  0.397484  4.403145e-13   11.50  \n",
       "13436 -0.510080  0.060335  1.399278  0.931242  4.438672e-13   30.33  \n",
       "5746  -0.515713 -0.195099 -0.564949 -0.170137  4.298784e-13    4.90  \n",
       "5998  -0.511488 -0.055877  1.200967  0.769368  4.403145e-13   16.00  \n",
       "6896   2.703028 -0.194136 -0.441866 -0.102070  4.403145e-13    7.00  \n",
       "\n",
       "[5 rows x 23 columns]"
      ]
     },
     "execution_count": 80,
     "metadata": {},
     "output_type": "execute_result"
    }
   ],
   "source": [
    "df_Error_T.head()"
   ]
  },
  {
   "cell_type": "code",
   "execution_count": 81,
   "metadata": {},
   "outputs": [],
   "source": [
    "best_a=Alpha[np.argmax('test_ridge')]"
   ]
  },
  {
   "cell_type": "code",
   "execution_count": 82,
   "metadata": {},
   "outputs": [],
   "source": [
    "Model_R=Ridge(alpha=best_a)"
   ]
  },
  {
   "cell_type": "code",
   "execution_count": 83,
   "metadata": {},
   "outputs": [
    {
     "data": {
      "text/html": [
       "<style>#sk-container-id-4 {color: black;background-color: white;}#sk-container-id-4 pre{padding: 0;}#sk-container-id-4 div.sk-toggleable {background-color: white;}#sk-container-id-4 label.sk-toggleable__label {cursor: pointer;display: block;width: 100%;margin-bottom: 0;padding: 0.3em;box-sizing: border-box;text-align: center;}#sk-container-id-4 label.sk-toggleable__label-arrow:before {content: \"▸\";float: left;margin-right: 0.25em;color: #696969;}#sk-container-id-4 label.sk-toggleable__label-arrow:hover:before {color: black;}#sk-container-id-4 div.sk-estimator:hover label.sk-toggleable__label-arrow:before {color: black;}#sk-container-id-4 div.sk-toggleable__content {max-height: 0;max-width: 0;overflow: hidden;text-align: left;background-color: #f0f8ff;}#sk-container-id-4 div.sk-toggleable__content pre {margin: 0.2em;color: black;border-radius: 0.25em;background-color: #f0f8ff;}#sk-container-id-4 input.sk-toggleable__control:checked~div.sk-toggleable__content {max-height: 200px;max-width: 100%;overflow: auto;}#sk-container-id-4 input.sk-toggleable__control:checked~label.sk-toggleable__label-arrow:before {content: \"▾\";}#sk-container-id-4 div.sk-estimator input.sk-toggleable__control:checked~label.sk-toggleable__label {background-color: #d4ebff;}#sk-container-id-4 div.sk-label input.sk-toggleable__control:checked~label.sk-toggleable__label {background-color: #d4ebff;}#sk-container-id-4 input.sk-hidden--visually {border: 0;clip: rect(1px 1px 1px 1px);clip: rect(1px, 1px, 1px, 1px);height: 1px;margin: -1px;overflow: hidden;padding: 0;position: absolute;width: 1px;}#sk-container-id-4 div.sk-estimator {font-family: monospace;background-color: #f0f8ff;border: 1px dotted black;border-radius: 0.25em;box-sizing: border-box;margin-bottom: 0.5em;}#sk-container-id-4 div.sk-estimator:hover {background-color: #d4ebff;}#sk-container-id-4 div.sk-parallel-item::after {content: \"\";width: 100%;border-bottom: 1px solid gray;flex-grow: 1;}#sk-container-id-4 div.sk-label:hover label.sk-toggleable__label {background-color: #d4ebff;}#sk-container-id-4 div.sk-serial::before {content: \"\";position: absolute;border-left: 1px solid gray;box-sizing: border-box;top: 0;bottom: 0;left: 50%;z-index: 0;}#sk-container-id-4 div.sk-serial {display: flex;flex-direction: column;align-items: center;background-color: white;padding-right: 0.2em;padding-left: 0.2em;position: relative;}#sk-container-id-4 div.sk-item {position: relative;z-index: 1;}#sk-container-id-4 div.sk-parallel {display: flex;align-items: stretch;justify-content: center;background-color: white;position: relative;}#sk-container-id-4 div.sk-item::before, #sk-container-id-4 div.sk-parallel-item::before {content: \"\";position: absolute;border-left: 1px solid gray;box-sizing: border-box;top: 0;bottom: 0;left: 50%;z-index: -1;}#sk-container-id-4 div.sk-parallel-item {display: flex;flex-direction: column;z-index: 1;position: relative;background-color: white;}#sk-container-id-4 div.sk-parallel-item:first-child::after {align-self: flex-end;width: 50%;}#sk-container-id-4 div.sk-parallel-item:last-child::after {align-self: flex-start;width: 50%;}#sk-container-id-4 div.sk-parallel-item:only-child::after {width: 0;}#sk-container-id-4 div.sk-dashed-wrapped {border: 1px dashed gray;margin: 0 0.4em 0.5em 0.4em;box-sizing: border-box;padding-bottom: 0.4em;background-color: white;}#sk-container-id-4 div.sk-label label {font-family: monospace;font-weight: bold;display: inline-block;line-height: 1.2em;}#sk-container-id-4 div.sk-label-container {text-align: center;}#sk-container-id-4 div.sk-container {/* jupyter's `normalize.less` sets `[hidden] { display: none; }` but bootstrap.min.css set `[hidden] { display: none !important; }` so we also need the `!important` here to be able to override the default hidden behavior on the sphinx rendered scikit-learn.org. See: https://github.com/scikit-learn/scikit-learn/issues/21755 */display: inline-block !important;position: relative;}#sk-container-id-4 div.sk-text-repr-fallback {display: none;}</style><div id=\"sk-container-id-4\" class=\"sk-top-container\"><div class=\"sk-text-repr-fallback\"><pre>Ridge(alpha=0.0)</pre><b>In a Jupyter environment, please rerun this cell to show the HTML representation or trust the notebook. <br />On GitHub, the HTML representation is unable to render, please try loading this page with nbviewer.org.</b></div><div class=\"sk-container\" hidden><div class=\"sk-item\"><div class=\"sk-estimator sk-toggleable\"><input class=\"sk-toggleable__control sk-hidden--visually\" id=\"sk-estimator-id-4\" type=\"checkbox\" checked><label for=\"sk-estimator-id-4\" class=\"sk-toggleable__label sk-toggleable__label-arrow\">Ridge</label><div class=\"sk-toggleable__content\"><pre>Ridge(alpha=0.0)</pre></div></div></div></div></div>"
      ],
      "text/plain": [
       "Ridge(alpha=0.0)"
      ]
     },
     "execution_count": 83,
     "metadata": {},
     "output_type": "execute_result"
    }
   ],
   "source": [
    "Model_R.fit(x_train_1,y_train_1)"
   ]
  },
  {
   "cell_type": "code",
   "execution_count": 84,
   "metadata": {},
   "outputs": [],
   "source": [
    "pred_train=Model_R.predict(x_train_1)"
   ]
  },
  {
   "cell_type": "code",
   "execution_count": 85,
   "metadata": {},
   "outputs": [],
   "source": [
    "df_Error_T['prediksi']=pred_train"
   ]
  },
  {
   "cell_type": "code",
   "execution_count": 86,
   "metadata": {},
   "outputs": [],
   "source": [
    "df_Error_T['Error']=abs(df_Error_T['target']- df_Error_T['prediksi'])"
   ]
  },
  {
   "cell_type": "code",
   "execution_count": 87,
   "metadata": {},
   "outputs": [
    {
     "data": {
      "image/png": "[encoded data removed]",
      "text/plain": [
       "<Figure size 432x288 with 1 Axes>"
      ]
     },
     "metadata": {
      "needs_background": "light"
     },
     "output_type": "display_data"
    }
   ],
   "source": [
    "sns.distplot(df_Error_T['Error'])\n",
    "plt.show()"
   ]
  },
  {
   "cell_type": "code",
   "execution_count": 88,
   "metadata": {},
   "outputs": [
    {
     "data": {
      "image/png": "[encoded data removed]",
      "text/plain": [
       "<Figure size 432x288 with 1 Axes>"
      ]
     },
     "metadata": {
      "needs_background": "light"
     },
     "output_type": "display_data"
    }
   ],
   "source": [
    "plt.scatter(df_Error_T['target'],df_Error_T['Error'])\n",
    "plt.show()"
   ]
  }
 ],
 "metadata": {
  "kernelspec": {
   "display_name": "Python 3.10.4 64-bit",
   "language": "python",
   "name": "python3"
  },
  "language_info": {
   "codemirror_mode": {
    "name": "ipython",
    "version": 3
   },
   "file_extension": ".py",
   "mimetype": "text/x-python",
   "name": "python",
   "nbconvert_exporter": "python",
   "pygments_lexer": "ipython3",
   "version": "3.10.4"
  },
  "orig_nbformat": 4,
  "vscode": {
   "interpreter": {
    "hash": "821bd415aa5b70201c81bb3484003c490a66b09a242ecccbf0b9e3257c906ffe"
   }
  }
 },
 "nbformat": 4,
 "nbformat_minor": 2
}
